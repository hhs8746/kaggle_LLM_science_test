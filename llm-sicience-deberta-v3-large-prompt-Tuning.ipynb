{
 "cells": [
  {
   "cell_type": "markdown",
   "id": "1aa1d1b0",
   "metadata": {
    "papermill": {
     "duration": 0.013461,
     "end_time": "2023-08-15T16:30:37.077337",
     "exception": false,
     "start_time": "2023-08-15T16:30:37.063876",
     "status": "completed"
    },
    "tags": []
   },
   "source": [
    "# Preprocessing the dataset"
   ]
  },
  {
   "cell_type": "code",
   "execution_count": 1,
   "id": "d4052a2d",
   "metadata": {
    "execution": {
     "iopub.execute_input": "2023-08-15T16:30:37.108721Z",
     "iopub.status.busy": "2023-08-15T16:30:37.108259Z",
     "iopub.status.idle": "2023-08-15T16:30:37.113950Z",
     "shell.execute_reply": "2023-08-15T16:30:37.112915Z"
    },
    "papermill": {
     "duration": 0.025145,
     "end_time": "2023-08-15T16:30:37.118185",
     "exception": false,
     "start_time": "2023-08-15T16:30:37.093040",
     "status": "completed"
    },
    "tags": []
   },
   "outputs": [],
   "source": [
    "#https://www.kaggle.com/code/radek1/new-dataset-deberta-v3-large-training을 보고 작성했습니다."
   ]
  },
  {
   "cell_type": "code",
   "execution_count": 2,
   "id": "35f281ad",
   "metadata": {
    "execution": {
     "iopub.execute_input": "2023-08-15T16:30:37.147001Z",
     "iopub.status.busy": "2023-08-15T16:30:37.146635Z",
     "iopub.status.idle": "2023-08-15T16:30:37.151039Z",
     "shell.execute_reply": "2023-08-15T16:30:37.150071Z"
    },
    "papermill": {
     "duration": 0.021775,
     "end_time": "2023-08-15T16:30:37.153320",
     "exception": false,
     "start_time": "2023-08-15T16:30:37.131545",
     "status": "completed"
    },
    "tags": []
   },
   "outputs": [],
   "source": [
    "# !pip install -q -U bitsandbytes\n",
    "# !pip install -q -U git+https://github.com/huggingface/transformers.git\n",
    "#!pip install -q -U git+https://github.com/huggingface/peft.git\n",
    "# !pip install -q -U git+https://github.com/huggingface/accelerate.git"
   ]
  },
  {
   "cell_type": "code",
   "execution_count": 3,
   "id": "3fee9457",
   "metadata": {
    "execution": {
     "iopub.execute_input": "2023-08-15T16:30:37.180017Z",
     "iopub.status.busy": "2023-08-15T16:30:37.179382Z",
     "iopub.status.idle": "2023-08-15T16:31:13.324584Z",
     "shell.execute_reply": "2023-08-15T16:31:13.323186Z"
    },
    "papermill": {
     "duration": 36.161385,
     "end_time": "2023-08-15T16:31:13.327588",
     "exception": false,
     "start_time": "2023-08-15T16:30:37.166203",
     "status": "completed"
    },
    "tags": []
   },
   "outputs": [
    {
     "name": "stdout",
     "output_type": "stream",
     "text": [
      "Processing /kaggle/input/bitsandbytes-0410/bitsandbytes-0.41.0-py3-none-any.whl\r\n",
      "Installing collected packages: bitsandbytes\r\n",
      "Successfully installed bitsandbytes-0.41.0\r\n"
     ]
    }
   ],
   "source": [
    "!pip install \"/kaggle/input/bitsandbytes-0410/bitsandbytes-0.41.0-py3-none-any.whl\"\n"
   ]
  },
  {
   "cell_type": "code",
   "execution_count": 4,
   "id": "1a5c5d62",
   "metadata": {
    "execution": {
     "iopub.execute_input": "2023-08-15T16:31:13.356616Z",
     "iopub.status.busy": "2023-08-15T16:31:13.356249Z",
     "iopub.status.idle": "2023-08-15T16:31:45.642676Z",
     "shell.execute_reply": "2023-08-15T16:31:45.641414Z"
    },
    "papermill": {
     "duration": 32.303784,
     "end_time": "2023-08-15T16:31:45.645306",
     "exception": false,
     "start_time": "2023-08-15T16:31:13.341522",
     "status": "completed"
    },
    "tags": []
   },
   "outputs": [
    {
     "name": "stdout",
     "output_type": "stream",
     "text": [
      "Processing /kaggle/input/mykagglepippackage/peft-0.4.0-py3-none-any.whl\r\n",
      "Requirement already satisfied: numpy>=1.17 in /opt/conda/lib/python3.10/site-packages (from peft==0.4.0) (1.23.5)\r\n",
      "Requirement already satisfied: packaging>=20.0 in /opt/conda/lib/python3.10/site-packages (from peft==0.4.0) (21.3)\r\n",
      "Requirement already satisfied: psutil in /opt/conda/lib/python3.10/site-packages (from peft==0.4.0) (5.9.3)\r\n",
      "Requirement already satisfied: pyyaml in /opt/conda/lib/python3.10/site-packages (from peft==0.4.0) (6.0)\r\n",
      "Requirement already satisfied: torch>=1.13.0 in /opt/conda/lib/python3.10/site-packages (from peft==0.4.0) (2.0.0)\r\n",
      "Requirement already satisfied: transformers in /opt/conda/lib/python3.10/site-packages (from peft==0.4.0) (4.30.2)\r\n",
      "Requirement already satisfied: accelerate in /opt/conda/lib/python3.10/site-packages (from peft==0.4.0) (0.20.3)\r\n",
      "Requirement already satisfied: safetensors in /opt/conda/lib/python3.10/site-packages (from peft==0.4.0) (0.3.1)\r\n",
      "Requirement already satisfied: pyparsing!=3.0.5,>=2.0.2 in /opt/conda/lib/python3.10/site-packages (from packaging>=20.0->peft==0.4.0) (3.0.9)\r\n",
      "Requirement already satisfied: filelock in /opt/conda/lib/python3.10/site-packages (from torch>=1.13.0->peft==0.4.0) (3.12.2)\r\n",
      "Requirement already satisfied: typing-extensions in /opt/conda/lib/python3.10/site-packages (from torch>=1.13.0->peft==0.4.0) (4.6.3)\r\n",
      "Requirement already satisfied: sympy in /opt/conda/lib/python3.10/site-packages (from torch>=1.13.0->peft==0.4.0) (1.12)\r\n",
      "Requirement already satisfied: networkx in /opt/conda/lib/python3.10/site-packages (from torch>=1.13.0->peft==0.4.0) (3.1)\r\n",
      "Requirement already satisfied: jinja2 in /opt/conda/lib/python3.10/site-packages (from torch>=1.13.0->peft==0.4.0) (3.1.2)\r\n",
      "Requirement already satisfied: huggingface-hub<1.0,>=0.14.1 in /opt/conda/lib/python3.10/site-packages (from transformers->peft==0.4.0) (0.16.4)\r\n",
      "Requirement already satisfied: regex!=2019.12.17 in /opt/conda/lib/python3.10/site-packages (from transformers->peft==0.4.0) (2023.6.3)\r\n",
      "Requirement already satisfied: requests in /opt/conda/lib/python3.10/site-packages (from transformers->peft==0.4.0) (2.31.0)\r\n",
      "Requirement already satisfied: tokenizers!=0.11.3,<0.14,>=0.11.1 in /opt/conda/lib/python3.10/site-packages (from transformers->peft==0.4.0) (0.13.3)\r\n",
      "Requirement already satisfied: tqdm>=4.27 in /opt/conda/lib/python3.10/site-packages (from transformers->peft==0.4.0) (4.65.0)\r\n",
      "Requirement already satisfied: fsspec in /opt/conda/lib/python3.10/site-packages (from huggingface-hub<1.0,>=0.14.1->transformers->peft==0.4.0) (2023.6.0)\r\n",
      "Requirement already satisfied: MarkupSafe>=2.0 in /opt/conda/lib/python3.10/site-packages (from jinja2->torch>=1.13.0->peft==0.4.0) (2.1.3)\r\n",
      "Requirement already satisfied: charset-normalizer<4,>=2 in /opt/conda/lib/python3.10/site-packages (from requests->transformers->peft==0.4.0) (3.1.0)\r\n",
      "Requirement already satisfied: idna<4,>=2.5 in /opt/conda/lib/python3.10/site-packages (from requests->transformers->peft==0.4.0) (3.4)\r\n",
      "Requirement already satisfied: urllib3<3,>=1.21.1 in /opt/conda/lib/python3.10/site-packages (from requests->transformers->peft==0.4.0) (1.26.15)\r\n",
      "Requirement already satisfied: certifi>=2017.4.17 in /opt/conda/lib/python3.10/site-packages (from requests->transformers->peft==0.4.0) (2023.5.7)\r\n",
      "Requirement already satisfied: mpmath>=0.19 in /opt/conda/lib/python3.10/site-packages (from sympy->torch>=1.13.0->peft==0.4.0) (1.3.0)\r\n",
      "Installing collected packages: peft\r\n",
      "Successfully installed peft-0.4.0\r\n"
     ]
    }
   ],
   "source": [
    "!pip install \"/kaggle/input/mykagglepippackage/peft-0.4.0-py3-none-any.whl\"\n",
    "#!pip install -U peft --no-index --find-links=file:///kaggle/input/llm-bert/packages/packages/peft"
   ]
  },
  {
   "cell_type": "code",
   "execution_count": 5,
   "id": "bd07106f",
   "metadata": {
    "execution": {
     "iopub.execute_input": "2023-08-15T16:31:45.676014Z",
     "iopub.status.busy": "2023-08-15T16:31:45.675657Z",
     "iopub.status.idle": "2023-08-15T16:32:10.630262Z",
     "shell.execute_reply": "2023-08-15T16:32:10.628936Z"
    },
    "papermill": {
     "duration": 24.973584,
     "end_time": "2023-08-15T16:32:10.633380",
     "exception": false,
     "start_time": "2023-08-15T16:31:45.659796",
     "status": "completed"
    },
    "tags": []
   },
   "outputs": [
    {
     "name": "stdout",
     "output_type": "stream",
     "text": [
      "Looking in links: file:///kaggle/input/llm-bert/packages/packages/transformers\r\n",
      "Requirement already satisfied: transformers in /opt/conda/lib/python3.10/site-packages (4.30.2)\r\n",
      "\u001b[33mWARNING: Location 'file:///kaggle/input/llm-bert/packages/packages/transformers' is ignored: it is neither a file nor a directory.\u001b[0m\u001b[33m\r\n",
      "\u001b[0mRequirement already satisfied: filelock in /opt/conda/lib/python3.10/site-packages (from transformers) (3.12.2)\r\n",
      "Requirement already satisfied: huggingface-hub<1.0,>=0.14.1 in /opt/conda/lib/python3.10/site-packages (from transformers) (0.16.4)\r\n",
      "Requirement already satisfied: numpy>=1.17 in /opt/conda/lib/python3.10/site-packages (from transformers) (1.23.5)\r\n",
      "Requirement already satisfied: packaging>=20.0 in /opt/conda/lib/python3.10/site-packages (from transformers) (21.3)\r\n",
      "Requirement already satisfied: pyyaml>=5.1 in /opt/conda/lib/python3.10/site-packages (from transformers) (6.0)\r\n",
      "Requirement already satisfied: regex!=2019.12.17 in /opt/conda/lib/python3.10/site-packages (from transformers) (2023.6.3)\r\n",
      "Requirement already satisfied: requests in /opt/conda/lib/python3.10/site-packages (from transformers) (2.31.0)\r\n",
      "Requirement already satisfied: tokenizers!=0.11.3,<0.14,>=0.11.1 in /opt/conda/lib/python3.10/site-packages (from transformers) (0.13.3)\r\n",
      "Requirement already satisfied: safetensors>=0.3.1 in /opt/conda/lib/python3.10/site-packages (from transformers) (0.3.1)\r\n",
      "Requirement already satisfied: tqdm>=4.27 in /opt/conda/lib/python3.10/site-packages (from transformers) (4.65.0)\r\n",
      "Requirement already satisfied: fsspec in /opt/conda/lib/python3.10/site-packages (from huggingface-hub<1.0,>=0.14.1->transformers) (2023.6.0)\r\n",
      "Requirement already satisfied: typing-extensions>=3.7.4.3 in /opt/conda/lib/python3.10/site-packages (from huggingface-hub<1.0,>=0.14.1->transformers) (4.6.3)\r\n",
      "Requirement already satisfied: pyparsing!=3.0.5,>=2.0.2 in /opt/conda/lib/python3.10/site-packages (from packaging>=20.0->transformers) (3.0.9)\r\n",
      "Requirement already satisfied: charset-normalizer<4,>=2 in /opt/conda/lib/python3.10/site-packages (from requests->transformers) (3.1.0)\r\n",
      "Requirement already satisfied: idna<4,>=2.5 in /opt/conda/lib/python3.10/site-packages (from requests->transformers) (3.4)\r\n",
      "Requirement already satisfied: urllib3<3,>=1.21.1 in /opt/conda/lib/python3.10/site-packages (from requests->transformers) (1.26.15)\r\n",
      "Requirement already satisfied: certifi>=2017.4.17 in /opt/conda/lib/python3.10/site-packages (from requests->transformers) (2023.5.7)\r\n",
      "Looking in links: file:///kaggle/input/llm-bert/packages/packages/accelerate\r\n",
      "Requirement already satisfied: accelerate in /opt/conda/lib/python3.10/site-packages (0.20.3)\r\n",
      "\u001b[33mWARNING: Location 'file:///kaggle/input/llm-bert/packages/packages/accelerate' is ignored: it is neither a file nor a directory.\u001b[0m\u001b[33m\r\n",
      "\u001b[0mRequirement already satisfied: numpy>=1.17 in /opt/conda/lib/python3.10/site-packages (from accelerate) (1.23.5)\r\n",
      "Requirement already satisfied: packaging>=20.0 in /opt/conda/lib/python3.10/site-packages (from accelerate) (21.3)\r\n",
      "Requirement already satisfied: psutil in /opt/conda/lib/python3.10/site-packages (from accelerate) (5.9.3)\r\n",
      "Requirement already satisfied: pyyaml in /opt/conda/lib/python3.10/site-packages (from accelerate) (6.0)\r\n",
      "Requirement already satisfied: torch>=1.6.0 in /opt/conda/lib/python3.10/site-packages (from accelerate) (2.0.0)\r\n",
      "Requirement already satisfied: pyparsing!=3.0.5,>=2.0.2 in /opt/conda/lib/python3.10/site-packages (from packaging>=20.0->accelerate) (3.0.9)\r\n",
      "Requirement already satisfied: filelock in /opt/conda/lib/python3.10/site-packages (from torch>=1.6.0->accelerate) (3.12.2)\r\n",
      "Requirement already satisfied: typing-extensions in /opt/conda/lib/python3.10/site-packages (from torch>=1.6.0->accelerate) (4.6.3)\r\n",
      "Requirement already satisfied: sympy in /opt/conda/lib/python3.10/site-packages (from torch>=1.6.0->accelerate) (1.12)\r\n",
      "Requirement already satisfied: networkx in /opt/conda/lib/python3.10/site-packages (from torch>=1.6.0->accelerate) (3.1)\r\n",
      "Requirement already satisfied: jinja2 in /opt/conda/lib/python3.10/site-packages (from torch>=1.6.0->accelerate) (3.1.2)\r\n",
      "Requirement already satisfied: MarkupSafe>=2.0 in /opt/conda/lib/python3.10/site-packages (from jinja2->torch>=1.6.0->accelerate) (2.1.3)\r\n",
      "Requirement already satisfied: mpmath>=0.19 in /opt/conda/lib/python3.10/site-packages (from sympy->torch>=1.6.0->accelerate) (1.3.0)\r\n"
     ]
    }
   ],
   "source": [
    "\n",
    "!pip install -U transformers --no-index --find-links=file:///kaggle/input/llm-bert/packages/packages/transformers\n",
    "#!pip install -U peft --no-index --find-links=file:///kaggle/input/llm-bert/packages/packages/peft\n",
    "!pip install -U accelerate --no-index --find-links=file:///kaggle/input/llm-bert/packages/packages/accelerate"
   ]
  },
  {
   "cell_type": "code",
   "execution_count": null,
   "id": "2cb6b5a5",
   "metadata": {
    "papermill": {
     "duration": 0.015049,
     "end_time": "2023-08-15T16:32:10.663799",
     "exception": false,
     "start_time": "2023-08-15T16:32:10.648750",
     "status": "completed"
    },
    "tags": []
   },
   "outputs": [],
   "source": []
  },
  {
   "cell_type": "code",
   "execution_count": 6,
   "id": "385d5256",
   "metadata": {
    "_kg_hide-input": true,
    "execution": {
     "iopub.execute_input": "2023-08-15T16:32:10.696327Z",
     "iopub.status.busy": "2023-08-15T16:32:10.695242Z",
     "iopub.status.idle": "2023-08-15T16:32:26.229194Z",
     "shell.execute_reply": "2023-08-15T16:32:26.228120Z"
    },
    "papermill": {
     "duration": 15.552823,
     "end_time": "2023-08-15T16:32:26.231685",
     "exception": false,
     "start_time": "2023-08-15T16:32:10.678862",
     "status": "completed"
    },
    "tags": []
   },
   "outputs": [
    {
     "name": "stderr",
     "output_type": "stream",
     "text": [
      "/opt/conda/lib/python3.10/site-packages/scipy/__init__.py:146: UserWarning: A NumPy version >=1.16.5 and <1.23.0 is required for this version of SciPy (detected version 1.23.5\n",
      "  warnings.warn(f\"A NumPy version >={np_minversion} and <{np_maxversion}\"\n",
      "/opt/conda/lib/python3.10/site-packages/tensorflow_io/python/ops/__init__.py:98: UserWarning: unable to load libtensorflow_io_plugins.so: unable to open file: libtensorflow_io_plugins.so, from paths: ['/opt/conda/lib/python3.10/site-packages/tensorflow_io/python/ops/libtensorflow_io_plugins.so']\n",
      "caused by: ['/opt/conda/lib/python3.10/site-packages/tensorflow_io/python/ops/libtensorflow_io_plugins.so: undefined symbol: _ZN3tsl6StatusC1EN10tensorflow5error4CodeESt17basic_string_viewIcSt11char_traitsIcEENS_14SourceLocationE']\n",
      "  warnings.warn(f\"unable to load libtensorflow_io_plugins.so: {e}\")\n",
      "/opt/conda/lib/python3.10/site-packages/tensorflow_io/python/ops/__init__.py:104: UserWarning: file system plugins are not loaded: unable to open file: libtensorflow_io.so, from paths: ['/opt/conda/lib/python3.10/site-packages/tensorflow_io/python/ops/libtensorflow_io.so']\n",
      "caused by: ['/opt/conda/lib/python3.10/site-packages/tensorflow_io/python/ops/libtensorflow_io.so: undefined symbol: _ZTVN10tensorflow13GcsFileSystemE']\n",
      "  warnings.warn(f\"file system plugins are not loaded: {e}\")\n"
     ]
    }
   ],
   "source": [
    "from typing import Optional, Union\n",
    "import pandas as pd\n",
    "import numpy as np\n",
    "import torch\n",
    "from datasets import Dataset\n",
    "from dataclasses import dataclass\n",
    "from transformers import AutoTokenizer\n",
    "from transformers.tokenization_utils_base import PreTrainedTokenizerBase, PaddingStrategy\n",
    "from transformers import AutoModelForMultipleChoice, TrainingArguments, Trainer, AutoModel\n",
    "model_id = '/kaggle/input/best-llm-starter-pack/nous_hermes/Nous-Hermes-Llama2-13b/snapshots/8f95aa9cd207db7b24179fc779c2b8973e71bee2'\n",
    "#deberta_v3_large = '/kaggle/input/deberta-v3-large-hf-weights'"
   ]
  },
  {
   "cell_type": "markdown",
   "id": "28355ba5",
   "metadata": {
    "papermill": {
     "duration": 0.015257,
     "end_time": "2023-08-15T16:32:26.261989",
     "exception": false,
     "start_time": "2023-08-15T16:32:26.246732",
     "status": "completed"
    },
    "tags": []
   },
   "source": [
    "We begin by loading and processing the train data."
   ]
  },
  {
   "cell_type": "code",
   "execution_count": 7,
   "id": "c87f844d",
   "metadata": {
    "execution": {
     "iopub.execute_input": "2023-08-15T16:32:26.294732Z",
     "iopub.status.busy": "2023-08-15T16:32:26.294346Z",
     "iopub.status.idle": "2023-08-15T16:32:26.327300Z",
     "shell.execute_reply": "2023-08-15T16:32:26.326064Z"
    },
    "papermill": {
     "duration": 0.052949,
     "end_time": "2023-08-15T16:32:26.330514",
     "exception": false,
     "start_time": "2023-08-15T16:32:26.277565",
     "status": "completed"
    },
    "tags": []
   },
   "outputs": [
    {
     "data": {
      "text/plain": [
       "(200, 7)"
      ]
     },
     "execution_count": 7,
     "metadata": {},
     "output_type": "execute_result"
    }
   ],
   "source": [
    "df_train = pd.read_csv('/kaggle/input/kaggle-llm-science-exam/train.csv')\n",
    "df_train = df_train.drop(columns=\"id\")\n",
    "df_train.shape"
   ]
  },
  {
   "cell_type": "markdown",
   "id": "c7fd66e4",
   "metadata": {
    "papermill": {
     "duration": 0.015562,
     "end_time": "2023-08-15T16:32:26.362163",
     "exception": false,
     "start_time": "2023-08-15T16:32:26.346601",
     "status": "completed"
    },
    "tags": []
   },
   "source": [
    "Let's add another 500 examples to the train set!"
   ]
  },
  {
   "cell_type": "markdown",
   "id": "95ab1400",
   "metadata": {
    "papermill": {
     "duration": 0.014615,
     "end_time": "2023-08-15T16:32:26.391288",
     "exception": false,
     "start_time": "2023-08-15T16:32:26.376673",
     "status": "completed"
    },
    "tags": []
   },
   "source": [
    "df_train"
   ]
  },
  {
   "cell_type": "code",
   "execution_count": 8,
   "id": "1688d529",
   "metadata": {
    "execution": {
     "iopub.execute_input": "2023-08-15T16:32:26.422048Z",
     "iopub.status.busy": "2023-08-15T16:32:26.421689Z",
     "iopub.status.idle": "2023-08-15T16:32:26.427117Z",
     "shell.execute_reply": "2023-08-15T16:32:26.426166Z"
    },
    "papermill": {
     "duration": 0.023341,
     "end_time": "2023-08-15T16:32:26.429321",
     "exception": false,
     "start_time": "2023-08-15T16:32:26.405980",
     "status": "completed"
    },
    "tags": []
   },
   "outputs": [],
   "source": [
    "#df1 = pd.read_csv(\"/kaggle/input/wikipedia-stem-1k/stem_1k_v1.csv\")\n",
    "#df1.drop(['id'], axis=1, inplace=True)\n",
    "#df1.shape"
   ]
  },
  {
   "cell_type": "code",
   "execution_count": 9,
   "id": "45206853",
   "metadata": {
    "execution": {
     "iopub.execute_input": "2023-08-15T16:32:26.460764Z",
     "iopub.status.busy": "2023-08-15T16:32:26.460409Z",
     "iopub.status.idle": "2023-08-15T16:32:26.464692Z",
     "shell.execute_reply": "2023-08-15T16:32:26.463753Z"
    },
    "papermill": {
     "duration": 0.022639,
     "end_time": "2023-08-15T16:32:26.466819",
     "exception": false,
     "start_time": "2023-08-15T16:32:26.444180",
     "status": "completed"
    },
    "tags": []
   },
   "outputs": [],
   "source": [
    "#df_train = pd.read_csv('/kaggle/input/kaggle-llm-science-exam/train.csv')\n",
    "#df_train = df_train.drop(columns=\"id\")\n",
    "#df_train.shape"
   ]
  },
  {
   "cell_type": "code",
   "execution_count": 10,
   "id": "948513ce",
   "metadata": {
    "execution": {
     "iopub.execute_input": "2023-08-15T16:32:26.498862Z",
     "iopub.status.busy": "2023-08-15T16:32:26.497856Z",
     "iopub.status.idle": "2023-08-15T16:32:26.502981Z",
     "shell.execute_reply": "2023-08-15T16:32:26.502111Z"
    },
    "papermill": {
     "duration": 0.023338,
     "end_time": "2023-08-15T16:32:26.505195",
     "exception": false,
     "start_time": "2023-08-15T16:32:26.481857",
     "status": "completed"
    },
    "tags": []
   },
   "outputs": [],
   "source": [
    "#df_train = pd.concat([\n",
    " #    df_train,\n",
    "#     pd.read_csv('/kaggle/input/additional-train-data-for-llm-science-exam/6000_train_examples.csv'),\n",
    "# ])\n",
    "#df_train.reset_index(inplace=True, drop=True)\n",
    "#df_train.shape"
   ]
  },
  {
   "cell_type": "code",
   "execution_count": 11,
   "id": "2d5c8374",
   "metadata": {
    "execution": {
     "iopub.execute_input": "2023-08-15T16:32:26.537287Z",
     "iopub.status.busy": "2023-08-15T16:32:26.536176Z",
     "iopub.status.idle": "2023-08-15T16:32:26.629283Z",
     "shell.execute_reply": "2023-08-15T16:32:26.628224Z"
    },
    "papermill": {
     "duration": 0.11152,
     "end_time": "2023-08-15T16:32:26.631776",
     "exception": false,
     "start_time": "2023-08-15T16:32:26.520256",
     "status": "completed"
    },
    "tags": []
   },
   "outputs": [],
   "source": [
    "df00 = pd.read_csv('/kaggle/input/additional-train-data-for-llm-science-exam/6000_train_examples.csv')"
   ]
  },
  {
   "cell_type": "code",
   "execution_count": 12,
   "id": "ab9ad4ea",
   "metadata": {
    "execution": {
     "iopub.execute_input": "2023-08-15T16:32:26.664419Z",
     "iopub.status.busy": "2023-08-15T16:32:26.663111Z",
     "iopub.status.idle": "2023-08-15T16:32:26.670427Z",
     "shell.execute_reply": "2023-08-15T16:32:26.669364Z"
    },
    "papermill": {
     "duration": 0.025709,
     "end_time": "2023-08-15T16:32:26.672620",
     "exception": false,
     "start_time": "2023-08-15T16:32:26.646911",
     "status": "completed"
    },
    "tags": []
   },
   "outputs": [
    {
     "data": {
      "text/plain": [
       "(6000, 7)"
      ]
     },
     "execution_count": 12,
     "metadata": {},
     "output_type": "execute_result"
    }
   ],
   "source": [
    "df00.shape"
   ]
  },
  {
   "cell_type": "code",
   "execution_count": 13,
   "id": "f803ec2e",
   "metadata": {
    "execution": {
     "iopub.execute_input": "2023-08-15T16:32:26.705895Z",
     "iopub.status.busy": "2023-08-15T16:32:26.704917Z",
     "iopub.status.idle": "2023-08-15T16:32:26.927187Z",
     "shell.execute_reply": "2023-08-15T16:32:26.926075Z"
    },
    "papermill": {
     "duration": 0.24186,
     "end_time": "2023-08-15T16:32:26.930280",
     "exception": false,
     "start_time": "2023-08-15T16:32:26.688420",
     "status": "completed"
    },
    "tags": []
   },
   "outputs": [
    {
     "data": {
      "text/plain": [
       "(21700, 7)"
      ]
     },
     "execution_count": 13,
     "metadata": {},
     "output_type": "execute_result"
    }
   ],
   "source": [
    "df = pd.read_csv('/kaggle/input/additional-train-data-for-llm-science-exam/extra_train_set.csv')\n",
    "df2=pd.read_csv(\"/kaggle/input/15k-high-quality-examples/15k_gpt3.5-turbo.csv\")\n",
    "#df2 = df.drop(df.index[:5000])\n",
    "df2 = df2.reset_index(drop=True)\n",
    "df_train = pd.concat([\n",
    "    df_train,\n",
    "    df,\n",
    "    df00,df2    \n",
    "])\n",
    "  \n",
    "#df_train = df_train.sample(frac=1)\n",
    "df_train.reset_index(inplace=True, drop=True)\n",
    "df_train.shape"
   ]
  },
  {
   "cell_type": "code",
   "execution_count": 14,
   "id": "e9ed8acd",
   "metadata": {
    "execution": {
     "iopub.execute_input": "2023-08-15T16:32:26.965541Z",
     "iopub.status.busy": "2023-08-15T16:32:26.965156Z",
     "iopub.status.idle": "2023-08-15T16:32:27.034670Z",
     "shell.execute_reply": "2023-08-15T16:32:27.033427Z"
    },
    "papermill": {
     "duration": 0.089064,
     "end_time": "2023-08-15T16:32:27.037694",
     "exception": false,
     "start_time": "2023-08-15T16:32:26.948630",
     "status": "completed"
    },
    "tags": []
   },
   "outputs": [
    {
     "data": {
      "text/plain": [
       "(21696, 7)"
      ]
     },
     "execution_count": 14,
     "metadata": {},
     "output_type": "execute_result"
    }
   ],
   "source": [
    "df_train = df_train.drop_duplicates()\n",
    "df_train.shape"
   ]
  },
  {
   "cell_type": "code",
   "execution_count": 15,
   "id": "3b5b2b08",
   "metadata": {
    "execution": {
     "iopub.execute_input": "2023-08-15T16:32:27.070880Z",
     "iopub.status.busy": "2023-08-15T16:32:27.070509Z",
     "iopub.status.idle": "2023-08-15T16:32:27.080651Z",
     "shell.execute_reply": "2023-08-15T16:32:27.079564Z"
    },
    "papermill": {
     "duration": 0.029602,
     "end_time": "2023-08-15T16:32:27.082926",
     "exception": false,
     "start_time": "2023-08-15T16:32:27.053324",
     "status": "completed"
    },
    "tags": []
   },
   "outputs": [
    {
     "data": {
      "text/plain": [
       "(15000, 7)"
      ]
     },
     "execution_count": 15,
     "metadata": {},
     "output_type": "execute_result"
    }
   ],
   "source": [
    "df_train = df2\n",
    "df_train.shape"
   ]
  },
  {
   "cell_type": "code",
   "execution_count": 16,
   "id": "0def1a30",
   "metadata": {
    "execution": {
     "iopub.execute_input": "2023-08-15T16:32:27.116304Z",
     "iopub.status.busy": "2023-08-15T16:32:27.115942Z",
     "iopub.status.idle": "2023-08-15T16:32:27.121051Z",
     "shell.execute_reply": "2023-08-15T16:32:27.120139Z"
    },
    "papermill": {
     "duration": 0.024432,
     "end_time": "2023-08-15T16:32:27.123467",
     "exception": false,
     "start_time": "2023-08-15T16:32:27.099035",
     "status": "completed"
    },
    "tags": []
   },
   "outputs": [],
   "source": [
    "def create_specific_prompt(pt):\n",
    "    prompt = (\"As a science expert solving a science exam question, you are tasked to answer the following.\"\n",
    "              \"If it is correct, explain why you judged it as correct, and if it is wrong, think of the reason why you judged it as wrong. Let’s work this out step by step to be sure we have the right answer.\"\n",
    "              \"Here's the question:\\n\\n\")\n",
    "    return prompt+pt\n",
    "              "
   ]
  },
  {
   "cell_type": "code",
   "execution_count": 17,
   "id": "8f972ede",
   "metadata": {
    "execution": {
     "iopub.execute_input": "2023-08-15T16:32:27.157849Z",
     "iopub.status.busy": "2023-08-15T16:32:27.157492Z",
     "iopub.status.idle": "2023-08-15T16:32:27.176201Z",
     "shell.execute_reply": "2023-08-15T16:32:27.175254Z"
    },
    "papermill": {
     "duration": 0.039117,
     "end_time": "2023-08-15T16:32:27.178776",
     "exception": false,
     "start_time": "2023-08-15T16:32:27.139659",
     "status": "completed"
    },
    "tags": []
   },
   "outputs": [],
   "source": [
    "df_train['prompt']=df_train['prompt'].apply(create_specific_prompt)"
   ]
  },
  {
   "cell_type": "code",
   "execution_count": 18,
   "id": "c1cb0f64",
   "metadata": {
    "execution": {
     "iopub.execute_input": "2023-08-15T16:32:27.216607Z",
     "iopub.status.busy": "2023-08-15T16:32:27.216230Z",
     "iopub.status.idle": "2023-08-15T16:32:27.223065Z",
     "shell.execute_reply": "2023-08-15T16:32:27.222172Z"
    },
    "papermill": {
     "duration": 0.026998,
     "end_time": "2023-08-15T16:32:27.225563",
     "exception": false,
     "start_time": "2023-08-15T16:32:27.198565",
     "status": "completed"
    },
    "tags": []
   },
   "outputs": [
    {
     "data": {
      "text/plain": [
       "\"As a science expert solving a science exam question, you are tasked to answer the following.If it is correct, explain why you judged it as correct, and if it is wrong, think of the reason why you judged it as wrong. Let’s work this out step by step to be sure we have the right answer.Here's the question:\\n\\nWho was responsible for the reorganisation of New Army reserve units during the First World War?\""
      ]
     },
     "execution_count": 18,
     "metadata": {},
     "output_type": "execute_result"
    }
   ],
   "source": [
    "df_train['prompt'][0]"
   ]
  },
  {
   "cell_type": "markdown",
   "id": "6b82357d",
   "metadata": {
    "papermill": {
     "duration": 0.01611,
     "end_time": "2023-08-15T16:32:27.257859",
     "exception": false,
     "start_time": "2023-08-15T16:32:27.241749",
     "status": "completed"
    },
    "tags": []
   },
   "source": [
    "Now that we have gone from 200 -> 700 train examples, let us preprocess the data and begin training."
   ]
  },
  {
   "cell_type": "code",
   "execution_count": 19,
   "id": "9fcf97dd",
   "metadata": {
    "execution": {
     "iopub.execute_input": "2023-08-15T16:32:27.293440Z",
     "iopub.status.busy": "2023-08-15T16:32:27.291600Z",
     "iopub.status.idle": "2023-08-15T16:32:27.306373Z",
     "shell.execute_reply": "2023-08-15T16:32:27.305367Z"
    },
    "papermill": {
     "duration": 0.034838,
     "end_time": "2023-08-15T16:32:27.308919",
     "exception": false,
     "start_time": "2023-08-15T16:32:27.274081",
     "status": "completed"
    },
    "tags": []
   },
   "outputs": [],
   "source": [
    "option_to_index = {option: idx for idx, option in enumerate('ABCDE')}\n",
    "index_to_option = {v: k for k,v in option_to_index.items()}\n",
    "\n",
    "def preprocess(example):\n",
    "    first_sentence = [example['prompt']] * 5\n",
    "    second_sentences = [example[option] for option in 'ABCDE']\n",
    "    tokenized_example = tokenizer(first_sentence, second_sentences, truncation=True)\n",
    "    tokenized_example['label'] = option_to_index[example['answer']]\n",
    "    \n",
    "    return tokenized_example\n",
    "\n",
    "@dataclass\n",
    "class DataCollatorForMultipleChoice:\n",
    "    tokenizer: PreTrainedTokenizerBase\n",
    "    padding: Union[bool, str, PaddingStrategy] = True\n",
    "    max_length: Optional[int] = None\n",
    "    pad_to_multiple_of: Optional[int] = None\n",
    "    \n",
    "    def __call__(self, features):\n",
    "        label_name = 'label' if 'label' in features[0].keys() else 'labels'\n",
    "        labels = [feature.pop(label_name) for feature in features]\n",
    "        batch_size = len(features)\n",
    "        num_choices = len(features[0]['input_ids'])\n",
    "        flattened_features = [\n",
    "            [{k: v[i] for k, v in feature.items()} for i in range(num_choices)] for feature in features\n",
    "        ]\n",
    "        flattened_features = sum(flattened_features, [])\n",
    "        \n",
    "        batch = self.tokenizer.pad(\n",
    "            flattened_features,\n",
    "            padding=self.padding,\n",
    "            max_length=self.max_length,\n",
    "            pad_to_multiple_of=self.pad_to_multiple_of,\n",
    "            return_tensors='pt',\n",
    "        )\n",
    "        batch = {k: v.view(batch_size, num_choices, -1) for k, v in batch.items()}\n",
    "        batch['labels'] = torch.tensor(labels, dtype=torch.int64)\n",
    "        return batch"
   ]
  },
  {
   "cell_type": "code",
   "execution_count": 20,
   "id": "aa131deb",
   "metadata": {
    "execution": {
     "iopub.execute_input": "2023-08-15T16:32:27.345762Z",
     "iopub.status.busy": "2023-08-15T16:32:27.344621Z",
     "iopub.status.idle": "2023-08-15T16:32:27.350198Z",
     "shell.execute_reply": "2023-08-15T16:32:27.349244Z"
    },
    "papermill": {
     "duration": 0.025809,
     "end_time": "2023-08-15T16:32:27.352337",
     "exception": false,
     "start_time": "2023-08-15T16:32:27.326528",
     "status": "completed"
    },
    "tags": []
   },
   "outputs": [],
   "source": [
    "deberta_v3_large = '/kaggle/input/2023kagglellm-deberta-v3-large-model1'\n",
    "model = deberta_v3_large\n",
    "model_id = model"
   ]
  },
  {
   "cell_type": "markdown",
   "id": "780b7cec",
   "metadata": {
    "execution": {
     "iopub.execute_input": "2023-07-21T03:38:13.805215Z",
     "iopub.status.busy": "2023-07-21T03:38:13.804849Z",
     "iopub.status.idle": "2023-07-21T03:38:13.814629Z",
     "shell.execute_reply": "2023-07-21T03:38:13.813302Z",
     "shell.execute_reply.started": "2023-07-21T03:38:13.805184Z"
    },
    "papermill": {
     "duration": 0.014847,
     "end_time": "2023-08-15T16:32:27.382903",
     "exception": false,
     "start_time": "2023-08-15T16:32:27.368056",
     "status": "completed"
    },
    "tags": []
   },
   "source": [
    "We first create a HuggingFace `Dataset`."
   ]
  },
  {
   "cell_type": "code",
   "execution_count": 21,
   "id": "97cc5ab9",
   "metadata": {
    "execution": {
     "iopub.execute_input": "2023-08-15T16:32:27.416504Z",
     "iopub.status.busy": "2023-08-15T16:32:27.415397Z",
     "iopub.status.idle": "2023-08-15T16:32:27.868949Z",
     "shell.execute_reply": "2023-08-15T16:32:27.867982Z"
    },
    "papermill": {
     "duration": 0.472653,
     "end_time": "2023-08-15T16:32:27.871257",
     "exception": false,
     "start_time": "2023-08-15T16:32:27.398604",
     "status": "completed"
    },
    "tags": []
   },
   "outputs": [
    {
     "data": {
      "text/plain": [
       "Dataset({\n",
       "    features: ['prompt', 'A', 'B', 'C', 'D', 'E', 'answer'],\n",
       "    num_rows: 15000\n",
       "})"
      ]
     },
     "execution_count": 21,
     "metadata": {},
     "output_type": "execute_result"
    }
   ],
   "source": [
    "tokenizer = AutoTokenizer.from_pretrained(model)\n",
    "dataset = Dataset.from_pandas(df_train)\n",
    "dataset"
   ]
  },
  {
   "cell_type": "code",
   "execution_count": 22,
   "id": "57c4f0b2",
   "metadata": {
    "execution": {
     "iopub.execute_input": "2023-08-15T16:32:27.904025Z",
     "iopub.status.busy": "2023-08-15T16:32:27.902829Z",
     "iopub.status.idle": "2023-08-15T16:32:27.908018Z",
     "shell.execute_reply": "2023-08-15T16:32:27.907148Z"
    },
    "papermill": {
     "duration": 0.023245,
     "end_time": "2023-08-15T16:32:27.910028",
     "exception": false,
     "start_time": "2023-08-15T16:32:27.886783",
     "status": "completed"
    },
    "tags": []
   },
   "outputs": [],
   "source": [
    "#tokenizer = AutoTokenizer.from_pretrained(\n",
    "  #  model,\n",
    "#    use_fast=False,\n",
    " #   trust_remote_code=True,\n",
    "  #  padding_side=\"left\",\n",
    "  #  pad_token=\"<|endoftext|>\"\n",
    "#)#\n",
    "\n",
    "#dataset = Dataset.from_pandas(df_train)\n",
    "#dataset"
   ]
  },
  {
   "cell_type": "markdown",
   "id": "1019185b",
   "metadata": {
    "papermill": {
     "duration": 0.015132,
     "end_time": "2023-08-15T16:32:27.940484",
     "exception": false,
     "start_time": "2023-08-15T16:32:27.925352",
     "status": "completed"
    },
    "tags": []
   },
   "source": [
    "And let us now preprocess the examples for training."
   ]
  },
  {
   "cell_type": "code",
   "execution_count": 23,
   "id": "4c23626f",
   "metadata": {
    "execution": {
     "iopub.execute_input": "2023-08-15T16:32:27.972785Z",
     "iopub.status.busy": "2023-08-15T16:32:27.972438Z",
     "iopub.status.idle": "2023-08-15T16:33:01.035053Z",
     "shell.execute_reply": "2023-08-15T16:33:01.033991Z"
    },
    "papermill": {
     "duration": 33.081339,
     "end_time": "2023-08-15T16:33:01.037481",
     "exception": false,
     "start_time": "2023-08-15T16:32:27.956142",
     "status": "completed"
    },
    "tags": []
   },
   "outputs": [
    {
     "data": {
      "application/vnd.jupyter.widget-view+json": {
       "model_id": "82792bfa85874ff0ba272ae81eb4cd98",
       "version_major": 2,
       "version_minor": 0
      },
      "text/plain": [
       "  0%|          | 0/15000 [00:00<?, ?ex/s]"
      ]
     },
     "metadata": {},
     "output_type": "display_data"
    },
    {
     "name": "stderr",
     "output_type": "stream",
     "text": [
      "Asking to truncate to max_length but no maximum length is provided and the model has no predefined maximum length. Default to no truncation.\n"
     ]
    },
    {
     "data": {
      "text/plain": [
       "Dataset({\n",
       "    features: ['input_ids', 'token_type_ids', 'attention_mask', 'label'],\n",
       "    num_rows: 15000\n",
       "})"
      ]
     },
     "execution_count": 23,
     "metadata": {},
     "output_type": "execute_result"
    }
   ],
   "source": [
    "tokenized_dataset = dataset.map(preprocess, remove_columns=['prompt', 'A', 'B', 'C', 'D', 'E', 'answer'])\n",
    "tokenized_dataset"
   ]
  },
  {
   "cell_type": "code",
   "execution_count": 24,
   "id": "af910e22",
   "metadata": {
    "execution": {
     "iopub.execute_input": "2023-08-15T16:33:01.070403Z",
     "iopub.status.busy": "2023-08-15T16:33:01.069978Z",
     "iopub.status.idle": "2023-08-15T16:33:02.411179Z",
     "shell.execute_reply": "2023-08-15T16:33:02.410136Z"
    },
    "papermill": {
     "duration": 1.361058,
     "end_time": "2023-08-15T16:33:02.413993",
     "exception": false,
     "start_time": "2023-08-15T16:33:01.052935",
     "status": "completed"
    },
    "tags": []
   },
   "outputs": [
    {
     "name": "stderr",
     "output_type": "stream",
     "text": [
      "Special tokens have been added in the vocabulary, make sure the associated word embeddings are fine-tuned or trained.\n",
      "/opt/conda/lib/python3.10/site-packages/transformers/convert_slow_tokenizer.py:454: UserWarning: The sentencepiece tokenizer that you are converting to a fast tokenizer uses the byte fallback option which is not implemented in the fast tokenizers. In practice this means that the fast version of the tokenizer can produce unknown tokens whereas the sentencepiece version would have converted these unknown tokens into a sequence of byte tokens matching the original piece of text.\n",
      "  warnings.warn(\n",
      "Special tokens have been added in the vocabulary, make sure the associated word embeddings are fine-tuned or trained.\n"
     ]
    }
   ],
   "source": [
    "from transformers import AutoTokenizer, AutoModelForCausalLM, BitsAndBytesConfig\n",
    "\n",
    "model_id = '/kaggle/input/deberta-v3-large-hf-weights' \n",
    "bnb_config = BitsAndBytesConfig(\n",
    "    load_in_4bit=True,\n",
    "    bnb_4bit_use_double_quant=True,\n",
    "    bnb_4bit_quant_type=\"nf4\",\n",
    "    bnb_4bit_compute_dtype=torch.bfloat16\n",
    ")\n",
    "\n",
    "tokenizer = AutoTokenizer.from_pretrained(model_id)"
   ]
  },
  {
   "cell_type": "code",
   "execution_count": 25,
   "id": "89ba54c9",
   "metadata": {
    "execution": {
     "iopub.execute_input": "2023-08-15T16:33:02.449455Z",
     "iopub.status.busy": "2023-08-15T16:33:02.449049Z",
     "iopub.status.idle": "2023-08-15T16:33:18.250713Z",
     "shell.execute_reply": "2023-08-15T16:33:18.249596Z"
    },
    "papermill": {
     "duration": 15.822452,
     "end_time": "2023-08-15T16:33:18.253404",
     "exception": false,
     "start_time": "2023-08-15T16:33:02.430952",
     "status": "completed"
    },
    "tags": []
   },
   "outputs": [
    {
     "name": "stderr",
     "output_type": "stream",
     "text": [
      "Some weights of the model checkpoint at /kaggle/input/deberta-v3-large-hf-weights were not used when initializing DebertaV2ForMultipleChoice: ['lm_predictions.lm_head.bias', 'lm_predictions.lm_head.LayerNorm.weight', 'mask_predictions.LayerNorm.bias', 'lm_predictions.lm_head.dense.bias', 'mask_predictions.dense.bias', 'mask_predictions.LayerNorm.weight', 'mask_predictions.classifier.weight', 'mask_predictions.dense.weight', 'lm_predictions.lm_head.dense.weight', 'mask_predictions.classifier.bias', 'lm_predictions.lm_head.LayerNorm.bias']\n",
      "- This IS expected if you are initializing DebertaV2ForMultipleChoice from the checkpoint of a model trained on another task or with another architecture (e.g. initializing a BertForSequenceClassification model from a BertForPreTraining model).\n",
      "- This IS NOT expected if you are initializing DebertaV2ForMultipleChoice from the checkpoint of a model that you expect to be exactly identical (initializing a BertForSequenceClassification model from a BertForSequenceClassification model).\n",
      "Some weights of DebertaV2ForMultipleChoice were not initialized from the model checkpoint at /kaggle/input/deberta-v3-large-hf-weights and are newly initialized: ['classifier.weight', 'classifier.bias', 'pooler.dense.weight', 'pooler.dense.bias']\n",
      "You should probably TRAIN this model on a down-stream task to be able to use it for predictions and inference.\n"
     ]
    }
   ],
   "source": [
    "model = AutoModelForMultipleChoice.from_pretrained(model_id,quantization_config=bnb_config)"
   ]
  },
  {
   "cell_type": "code",
   "execution_count": 26,
   "id": "22dd2722",
   "metadata": {
    "execution": {
     "iopub.execute_input": "2023-08-15T16:33:18.290622Z",
     "iopub.status.busy": "2023-08-15T16:33:18.289428Z",
     "iopub.status.idle": "2023-08-15T16:33:18.294416Z",
     "shell.execute_reply": "2023-08-15T16:33:18.293489Z"
    },
    "papermill": {
     "duration": 0.026201,
     "end_time": "2023-08-15T16:33:18.296683",
     "exception": false,
     "start_time": "2023-08-15T16:33:18.270482",
     "status": "completed"
    },
    "tags": []
   },
   "outputs": [],
   "source": [
    "#model = AutoModelForMultipleChoice.from_pretrained(deberta_v3_large)\n"
   ]
  },
  {
   "cell_type": "code",
   "execution_count": 27,
   "id": "b8a12c1d",
   "metadata": {
    "execution": {
     "iopub.execute_input": "2023-08-15T16:33:18.333578Z",
     "iopub.status.busy": "2023-08-15T16:33:18.333203Z",
     "iopub.status.idle": "2023-08-15T16:33:18.354493Z",
     "shell.execute_reply": "2023-08-15T16:33:18.353524Z"
    },
    "papermill": {
     "duration": 0.0427,
     "end_time": "2023-08-15T16:33:18.356901",
     "exception": false,
     "start_time": "2023-08-15T16:33:18.314201",
     "status": "completed"
    },
    "tags": []
   },
   "outputs": [],
   "source": [
    "from peft import prepare_model_for_kbit_training\n",
    "\n",
    "model.gradient_checkpointing_enable()\n",
    "model = prepare_model_for_kbit_training(model)"
   ]
  },
  {
   "cell_type": "code",
   "execution_count": 28,
   "id": "f9378f76",
   "metadata": {
    "execution": {
     "iopub.execute_input": "2023-08-15T16:33:18.394372Z",
     "iopub.status.busy": "2023-08-15T16:33:18.393397Z",
     "iopub.status.idle": "2023-08-15T16:33:18.400503Z",
     "shell.execute_reply": "2023-08-15T16:33:18.399371Z"
    },
    "papermill": {
     "duration": 0.028839,
     "end_time": "2023-08-15T16:33:18.402883",
     "exception": false,
     "start_time": "2023-08-15T16:33:18.374044",
     "status": "completed"
    },
    "tags": []
   },
   "outputs": [],
   "source": [
    "def print_trainable_parameters(model):\n",
    "    \"\"\"\n",
    "    Prints the number of trainable parameters in the model.\n",
    "    \"\"\"\n",
    "    trainable_params = 0\n",
    "    all_param = 0\n",
    "    for _, param in model.named_parameters():\n",
    "        all_param += param.numel()\n",
    "        if param.requires_grad:\n",
    "            trainable_params += param.numel()\n",
    "    print(\n",
    "        f\"trainable params: {trainable_params} || all params: {all_param} || trainable%: {100 * trainable_params / all_param}\"\n",
    "    )"
   ]
  },
  {
   "cell_type": "code",
   "execution_count": 29,
   "id": "edc2d850",
   "metadata": {
    "execution": {
     "iopub.execute_input": "2023-08-15T16:33:18.438939Z",
     "iopub.status.busy": "2023-08-15T16:33:18.437869Z",
     "iopub.status.idle": "2023-08-15T16:33:20.564750Z",
     "shell.execute_reply": "2023-08-15T16:33:20.563726Z"
    },
    "papermill": {
     "duration": 2.147679,
     "end_time": "2023-08-15T16:33:20.567203",
     "exception": false,
     "start_time": "2023-08-15T16:33:18.419524",
     "status": "completed"
    },
    "tags": []
   },
   "outputs": [
    {
     "name": "stdout",
     "output_type": "stream",
     "text": [
      "trainable params: 19005440 || all params: 302548993 || trainable%: 6.281772684664001\n"
     ]
    }
   ],
   "source": [
    "from peft import LoraConfig, get_peft_model\n",
    "\n",
    "config = LoraConfig(\n",
    "    r= 64,\n",
    "    lora_alpha=32,\n",
    "    target_modules=[\"query_key_value\", \"dense\", \"dense_h_to_4h\", \"dense_4h_to_h\"],\n",
    "    lora_dropout=0.05,\n",
    "    bias=\"none\",\n",
    "    task_type=\"CAUSAL_LM\"\n",
    ")\n",
    "\n",
    "model = get_peft_model(model, config)\n",
    "print_trainable_parameters(model)"
   ]
  },
  {
   "cell_type": "code",
   "execution_count": 30,
   "id": "2ea77281",
   "metadata": {
    "execution": {
     "iopub.execute_input": "2023-08-15T16:33:20.604986Z",
     "iopub.status.busy": "2023-08-15T16:33:20.603918Z",
     "iopub.status.idle": "2023-08-15T16:33:20.609181Z",
     "shell.execute_reply": "2023-08-15T16:33:20.608163Z"
    },
    "papermill": {
     "duration": 0.026516,
     "end_time": "2023-08-15T16:33:20.611454",
     "exception": false,
     "start_time": "2023-08-15T16:33:20.584938",
     "status": "completed"
    },
    "tags": []
   },
   "outputs": [],
   "source": [
    "# model = PeftModel.from_pretrained(model, lora_model_dir)"
   ]
  },
  {
   "cell_type": "markdown",
   "id": "638ece06",
   "metadata": {
    "papermill": {
     "duration": 0.017058,
     "end_time": "2023-08-15T16:33:20.646628",
     "exception": false,
     "start_time": "2023-08-15T16:33:20.629570",
     "status": "completed"
    },
    "tags": []
   },
   "source": [
    "# Training"
   ]
  },
  {
   "cell_type": "code",
   "execution_count": null,
   "id": "0ff7c6d5",
   "metadata": {
    "papermill": {
     "duration": 0.017188,
     "end_time": "2023-08-15T16:33:20.681795",
     "exception": false,
     "start_time": "2023-08-15T16:33:20.664607",
     "status": "completed"
    },
    "tags": []
   },
   "outputs": [],
   "source": []
  },
  {
   "cell_type": "code",
   "execution_count": 31,
   "id": "d82bea0b",
   "metadata": {
    "execution": {
     "iopub.execute_input": "2023-08-15T16:33:20.717703Z",
     "iopub.status.busy": "2023-08-15T16:33:20.716606Z",
     "iopub.status.idle": "2023-08-15T20:00:01.067835Z",
     "shell.execute_reply": "2023-08-15T20:00:01.066584Z"
    },
    "papermill": {
     "duration": 12400.371724,
     "end_time": "2023-08-15T20:00:01.070432",
     "exception": false,
     "start_time": "2023-08-15T16:33:20.698708",
     "status": "completed"
    },
    "tags": []
   },
   "outputs": [
    {
     "name": "stderr",
     "output_type": "stream",
     "text": [
      "You're using a DebertaV2TokenizerFast tokenizer. Please note that with a fast tokenizer, using the `__call__` method is faster than using a method to encode the text followed by a call to the `pad` method to get a padded encoding.\n"
     ]
    },
    {
     "data": {
      "text/html": [
       "\n",
       "    <div>\n",
       "      \n",
       "      <progress value='18750' max='18750' style='width:300px; height:20px; vertical-align: middle;'></progress>\n",
       "      [18750/18750 3:26:37, Epoch 2/3]\n",
       "    </div>\n",
       "    <table border=\"1\" class=\"dataframe\">\n",
       "  <thead>\n",
       " <tr style=\"text-align: left;\">\n",
       "      <th>Step</th>\n",
       "      <th>Training Loss</th>\n",
       "    </tr>\n",
       "  </thead>\n",
       "  <tbody>\n",
       "    <tr>\n",
       "      <td>500</td>\n",
       "      <td>1.613800</td>\n",
       "    </tr>\n",
       "    <tr>\n",
       "      <td>1000</td>\n",
       "      <td>1.615500</td>\n",
       "    </tr>\n",
       "    <tr>\n",
       "      <td>1500</td>\n",
       "      <td>1.614200</td>\n",
       "    </tr>\n",
       "    <tr>\n",
       "      <td>2000</td>\n",
       "      <td>1.617700</td>\n",
       "    </tr>\n",
       "    <tr>\n",
       "      <td>2500</td>\n",
       "      <td>1.608500</td>\n",
       "    </tr>\n",
       "    <tr>\n",
       "      <td>3000</td>\n",
       "      <td>1.613000</td>\n",
       "    </tr>\n",
       "    <tr>\n",
       "      <td>3500</td>\n",
       "      <td>1.609300</td>\n",
       "    </tr>\n",
       "    <tr>\n",
       "      <td>4000</td>\n",
       "      <td>1.614100</td>\n",
       "    </tr>\n",
       "    <tr>\n",
       "      <td>4500</td>\n",
       "      <td>1.613200</td>\n",
       "    </tr>\n",
       "    <tr>\n",
       "      <td>5000</td>\n",
       "      <td>1.614300</td>\n",
       "    </tr>\n",
       "    <tr>\n",
       "      <td>5500</td>\n",
       "      <td>1.612600</td>\n",
       "    </tr>\n",
       "    <tr>\n",
       "      <td>6000</td>\n",
       "      <td>1.613900</td>\n",
       "    </tr>\n",
       "    <tr>\n",
       "      <td>6500</td>\n",
       "      <td>1.613200</td>\n",
       "    </tr>\n",
       "    <tr>\n",
       "      <td>7000</td>\n",
       "      <td>1.612300</td>\n",
       "    </tr>\n",
       "    <tr>\n",
       "      <td>7500</td>\n",
       "      <td>1.611600</td>\n",
       "    </tr>\n",
       "    <tr>\n",
       "      <td>8000</td>\n",
       "      <td>1.613500</td>\n",
       "    </tr>\n",
       "    <tr>\n",
       "      <td>8500</td>\n",
       "      <td>1.614200</td>\n",
       "    </tr>\n",
       "    <tr>\n",
       "      <td>9000</td>\n",
       "      <td>1.617500</td>\n",
       "    </tr>\n",
       "    <tr>\n",
       "      <td>9500</td>\n",
       "      <td>1.608600</td>\n",
       "    </tr>\n",
       "    <tr>\n",
       "      <td>10000</td>\n",
       "      <td>1.612300</td>\n",
       "    </tr>\n",
       "    <tr>\n",
       "      <td>10500</td>\n",
       "      <td>1.608900</td>\n",
       "    </tr>\n",
       "    <tr>\n",
       "      <td>11000</td>\n",
       "      <td>1.610300</td>\n",
       "    </tr>\n",
       "    <tr>\n",
       "      <td>11500</td>\n",
       "      <td>1.609400</td>\n",
       "    </tr>\n",
       "    <tr>\n",
       "      <td>12000</td>\n",
       "      <td>1.597700</td>\n",
       "    </tr>\n",
       "    <tr>\n",
       "      <td>12500</td>\n",
       "      <td>1.563800</td>\n",
       "    </tr>\n",
       "    <tr>\n",
       "      <td>13000</td>\n",
       "      <td>1.534700</td>\n",
       "    </tr>\n",
       "    <tr>\n",
       "      <td>13500</td>\n",
       "      <td>1.508600</td>\n",
       "    </tr>\n",
       "    <tr>\n",
       "      <td>14000</td>\n",
       "      <td>1.480600</td>\n",
       "    </tr>\n",
       "    <tr>\n",
       "      <td>14500</td>\n",
       "      <td>1.486000</td>\n",
       "    </tr>\n",
       "    <tr>\n",
       "      <td>15000</td>\n",
       "      <td>1.478000</td>\n",
       "    </tr>\n",
       "    <tr>\n",
       "      <td>15500</td>\n",
       "      <td>1.412400</td>\n",
       "    </tr>\n",
       "    <tr>\n",
       "      <td>16000</td>\n",
       "      <td>1.438900</td>\n",
       "    </tr>\n",
       "    <tr>\n",
       "      <td>16500</td>\n",
       "      <td>1.448700</td>\n",
       "    </tr>\n",
       "    <tr>\n",
       "      <td>17000</td>\n",
       "      <td>1.392600</td>\n",
       "    </tr>\n",
       "    <tr>\n",
       "      <td>17500</td>\n",
       "      <td>1.373900</td>\n",
       "    </tr>\n",
       "    <tr>\n",
       "      <td>18000</td>\n",
       "      <td>1.397500</td>\n",
       "    </tr>\n",
       "    <tr>\n",
       "      <td>18500</td>\n",
       "      <td>1.437400</td>\n",
       "    </tr>\n",
       "  </tbody>\n",
       "</table><p>"
      ],
      "text/plain": [
       "<IPython.core.display.HTML object>"
      ]
     },
     "metadata": {},
     "output_type": "display_data"
    },
    {
     "data": {
      "text/plain": [
       "TrainOutput(global_step=18750, training_loss=1.5555414664713543, metrics={'train_runtime': 12399.9745, 'train_samples_per_second': 3.024, 'train_steps_per_second': 1.512, 'total_flos': 2.25969141977514e+16, 'train_loss': 1.5555414664713543, 'epoch': 2.5})"
      ]
     },
     "execution_count": 31,
     "metadata": {},
     "output_type": "execute_result"
    }
   ],
   "source": [
    "training_args = TrainingArguments(\n",
    "    warmup_ratio=0.8,\n",
    "    learning_rate=5e-6,\n",
    "    per_device_train_batch_size=2,\n",
    "    per_device_eval_batch_size=2,\n",
    "    num_train_epochs=2.5,\n",
    "    report_to='none',\n",
    "    output_dir='.',\n",
    "    optim='adamw_torch'\n",
    "\n",
    ")\n",
    "\n",
    "# model = AutoModelForMultipleChoice.from_pretrained(deberta_v3_large,quantization_config=bnb_config)\n",
    "\n",
    "trainer = Trainer(\n",
    "    model=model,\n",
    "    args=training_args,\n",
    "    tokenizer=tokenizer,\n",
    "    data_collator=DataCollatorForMultipleChoice(tokenizer=tokenizer),\n",
    "    train_dataset=tokenized_dataset\n",
    ")\n",
    "\n",
    "trainer.train()"
   ]
  },
  {
   "cell_type": "markdown",
   "id": "0c51d2a7",
   "metadata": {
    "papermill": {
     "duration": 0.018019,
     "end_time": "2023-08-15T20:00:01.107237",
     "exception": false,
     "start_time": "2023-08-15T20:00:01.089218",
     "status": "completed"
    },
    "tags": []
   },
   "source": [
    "# Predicting on the test set"
   ]
  },
  {
   "cell_type": "markdown",
   "id": "b98ad9f1",
   "metadata": {
    "papermill": {
     "duration": 0.018208,
     "end_time": "2023-08-15T20:00:01.143952",
     "exception": false,
     "start_time": "2023-08-15T20:00:01.125744",
     "status": "completed"
    },
    "tags": []
   },
   "source": [
    "Now that we have trained our model, let us predict on the test set."
   ]
  },
  {
   "cell_type": "code",
   "execution_count": 32,
   "id": "e2bf6973",
   "metadata": {
    "execution": {
     "iopub.execute_input": "2023-08-15T20:00:01.182334Z",
     "iopub.status.busy": "2023-08-15T20:00:01.181152Z",
     "iopub.status.idle": "2023-08-15T20:00:01.186980Z",
     "shell.execute_reply": "2023-08-15T20:00:01.185967Z"
    },
    "papermill": {
     "duration": 0.027125,
     "end_time": "2023-08-15T20:00:01.189337",
     "exception": false,
     "start_time": "2023-08-15T20:00:01.162212",
     "status": "completed"
    },
    "tags": []
   },
   "outputs": [],
   "source": [
    "import pandas as pd\n",
    "from datasets import Dataset"
   ]
  },
  {
   "cell_type": "code",
   "execution_count": null,
   "id": "2896f08e",
   "metadata": {
    "papermill": {
     "duration": 0.018047,
     "end_time": "2023-08-15T20:00:01.225593",
     "exception": false,
     "start_time": "2023-08-15T20:00:01.207546",
     "status": "completed"
    },
    "tags": []
   },
   "outputs": [],
   "source": []
  },
  {
   "cell_type": "code",
   "execution_count": 33,
   "id": "8462f882",
   "metadata": {
    "execution": {
     "iopub.execute_input": "2023-08-15T20:00:01.264786Z",
     "iopub.status.busy": "2023-08-15T20:00:01.264376Z",
     "iopub.status.idle": "2023-08-15T20:00:01.845147Z",
     "shell.execute_reply": "2023-08-15T20:00:01.844037Z"
    },
    "papermill": {
     "duration": 0.60386,
     "end_time": "2023-08-15T20:00:01.848047",
     "exception": false,
     "start_time": "2023-08-15T20:00:01.244187",
     "status": "completed"
    },
    "tags": []
   },
   "outputs": [
    {
     "data": {
      "application/vnd.jupyter.widget-view+json": {
       "model_id": "bc6e9714f1fb44348823ab3245870043",
       "version_major": 2,
       "version_minor": 0
      },
      "text/plain": [
       "  0%|          | 0/200 [00:00<?, ?ex/s]"
      ]
     },
     "metadata": {},
     "output_type": "display_data"
    },
    {
     "name": "stderr",
     "output_type": "stream",
     "text": [
      "Asking to truncate to max_length but no maximum length is provided and the model has no predefined maximum length. Default to no truncation.\n"
     ]
    }
   ],
   "source": [
    "test_df = pd.read_csv('/kaggle/input/kaggle-llm-science-exam/test.csv')\n",
    "test_df['answer'] = 'A' # dummy answer that allows us to preprocess the test dataset just like we preprocessed the train dataset\n",
    "test_df['prompt'] = test_df['prompt'].apply(create_specific_prompt)\n",
    "tokenized_test_dataset = Dataset.from_pandas(test_df.drop(columns=['id'])).map(preprocess, remove_columns=['prompt', 'A', 'B', 'C', 'D', 'E'])"
   ]
  },
  {
   "cell_type": "code",
   "execution_count": 34,
   "id": "f257b28d",
   "metadata": {
    "execution": {
     "iopub.execute_input": "2023-08-15T20:00:01.889009Z",
     "iopub.status.busy": "2023-08-15T20:00:01.888593Z",
     "iopub.status.idle": "2023-08-15T20:00:01.916972Z",
     "shell.execute_reply": "2023-08-15T20:00:01.915719Z"
    },
    "papermill": {
     "duration": 0.05235,
     "end_time": "2023-08-15T20:00:01.919684",
     "exception": false,
     "start_time": "2023-08-15T20:00:01.867334",
     "status": "completed"
    },
    "tags": []
   },
   "outputs": [
    {
     "data": {
      "text/html": [
       "<div>\n",
       "<style scoped>\n",
       "    .dataframe tbody tr th:only-of-type {\n",
       "        vertical-align: middle;\n",
       "    }\n",
       "\n",
       "    .dataframe tbody tr th {\n",
       "        vertical-align: top;\n",
       "    }\n",
       "\n",
       "    .dataframe thead th {\n",
       "        text-align: right;\n",
       "    }\n",
       "</style>\n",
       "<table border=\"1\" class=\"dataframe\">\n",
       "  <thead>\n",
       "    <tr style=\"text-align: right;\">\n",
       "      <th></th>\n",
       "      <th>id</th>\n",
       "      <th>prompt</th>\n",
       "      <th>A</th>\n",
       "      <th>B</th>\n",
       "      <th>C</th>\n",
       "      <th>D</th>\n",
       "      <th>E</th>\n",
       "      <th>answer</th>\n",
       "    </tr>\n",
       "  </thead>\n",
       "  <tbody>\n",
       "    <tr>\n",
       "      <th>0</th>\n",
       "      <td>0</td>\n",
       "      <td>As a science expert solving a science exam que...</td>\n",
       "      <td>MOND is a theory that reduces the observed mis...</td>\n",
       "      <td>MOND is a theory that increases the discrepanc...</td>\n",
       "      <td>MOND is a theory that explains the missing bar...</td>\n",
       "      <td>MOND is a theory that reduces the discrepancy ...</td>\n",
       "      <td>MOND is a theory that eliminates the observed ...</td>\n",
       "      <td>A</td>\n",
       "    </tr>\n",
       "    <tr>\n",
       "      <th>1</th>\n",
       "      <td>1</td>\n",
       "      <td>As a science expert solving a science exam que...</td>\n",
       "      <td>Dynamic scaling refers to the evolution of sel...</td>\n",
       "      <td>Dynamic scaling refers to the non-evolution of...</td>\n",
       "      <td>Dynamic scaling refers to the evolution of sel...</td>\n",
       "      <td>Dynamic scaling refers to the non-evolution of...</td>\n",
       "      <td>Dynamic scaling refers to the evolution of sel...</td>\n",
       "      <td>A</td>\n",
       "    </tr>\n",
       "    <tr>\n",
       "      <th>2</th>\n",
       "      <td>2</td>\n",
       "      <td>As a science expert solving a science exam que...</td>\n",
       "      <td>The triskeles symbol was reconstructed as a fe...</td>\n",
       "      <td>The triskeles symbol is a representation of th...</td>\n",
       "      <td>The triskeles symbol is a representation of a ...</td>\n",
       "      <td>The triskeles symbol represents three interloc...</td>\n",
       "      <td>The triskeles symbol is a representation of th...</td>\n",
       "      <td>A</td>\n",
       "    </tr>\n",
       "    <tr>\n",
       "      <th>3</th>\n",
       "      <td>3</td>\n",
       "      <td>As a science expert solving a science exam que...</td>\n",
       "      <td>Regularizing the mass-energy of an electron wi...</td>\n",
       "      <td>Regularizing the mass-energy of an electron wi...</td>\n",
       "      <td>Regularizing the mass-energy of an electron wi...</td>\n",
       "      <td>Regularizing the mass-energy of an electron wi...</td>\n",
       "      <td>Regularizing the mass-energy of an electron wi...</td>\n",
       "      <td>A</td>\n",
       "    </tr>\n",
       "    <tr>\n",
       "      <th>4</th>\n",
       "      <td>4</td>\n",
       "      <td>As a science expert solving a science exam que...</td>\n",
       "      <td>The angular spacing of features in the diffrac...</td>\n",
       "      <td>The angular spacing of features in the diffrac...</td>\n",
       "      <td>The angular spacing of features in the diffrac...</td>\n",
       "      <td>The angular spacing of features in the diffrac...</td>\n",
       "      <td>The angular spacing of features in the diffrac...</td>\n",
       "      <td>A</td>\n",
       "    </tr>\n",
       "    <tr>\n",
       "      <th>...</th>\n",
       "      <td>...</td>\n",
       "      <td>...</td>\n",
       "      <td>...</td>\n",
       "      <td>...</td>\n",
       "      <td>...</td>\n",
       "      <td>...</td>\n",
       "      <td>...</td>\n",
       "      <td>...</td>\n",
       "    </tr>\n",
       "    <tr>\n",
       "      <th>195</th>\n",
       "      <td>195</td>\n",
       "      <td>As a science expert solving a science exam que...</td>\n",
       "      <td>The three moment theorem expresses the relatio...</td>\n",
       "      <td>The three moment theorem is used to calculate ...</td>\n",
       "      <td>The three moment theorem describes the relatio...</td>\n",
       "      <td>The three moment theorem is used to calculate ...</td>\n",
       "      <td>The three moment theorem is used to derive the...</td>\n",
       "      <td>A</td>\n",
       "    </tr>\n",
       "    <tr>\n",
       "      <th>196</th>\n",
       "      <td>196</td>\n",
       "      <td>As a science expert solving a science exam que...</td>\n",
       "      <td>The throttling process is a steady flow of a f...</td>\n",
       "      <td>The throttling process is a steady adiabatic f...</td>\n",
       "      <td>The throttling process is a steady adiabatic f...</td>\n",
       "      <td>The throttling process is a steady flow of a f...</td>\n",
       "      <td>The throttling process is a steady adiabatic f...</td>\n",
       "      <td>A</td>\n",
       "    </tr>\n",
       "    <tr>\n",
       "      <th>197</th>\n",
       "      <td>197</td>\n",
       "      <td>As a science expert solving a science exam que...</td>\n",
       "      <td>The excess base metal will often solidify, bec...</td>\n",
       "      <td>The excess base metal will often crystallize-o...</td>\n",
       "      <td>The excess base metal will often dissolve, bec...</td>\n",
       "      <td>The excess base metal will often liquefy, beco...</td>\n",
       "      <td>The excess base metal will often evaporate, be...</td>\n",
       "      <td>A</td>\n",
       "    </tr>\n",
       "    <tr>\n",
       "      <th>198</th>\n",
       "      <td>198</td>\n",
       "      <td>As a science expert solving a science exam que...</td>\n",
       "      <td>Mass is a property that determines the weight ...</td>\n",
       "      <td>Mass is an inertial property that determines a...</td>\n",
       "      <td>Mass is an inertial property that determines a...</td>\n",
       "      <td>Mass is an inertial property that determines a...</td>\n",
       "      <td>Mass is a property that determines the size of...</td>\n",
       "      <td>A</td>\n",
       "    </tr>\n",
       "    <tr>\n",
       "      <th>199</th>\n",
       "      <td>199</td>\n",
       "      <td>As a science expert solving a science exam que...</td>\n",
       "      <td>Arthur Eddington showed that two of Einstein's...</td>\n",
       "      <td>Arthur Eddington showed that two of Einstein's...</td>\n",
       "      <td>Arthur Eddington showed that two of Einstein's...</td>\n",
       "      <td>Arthur Eddington showed that two of Einstein's...</td>\n",
       "      <td>Arthur Eddington showed that two of Einstein's...</td>\n",
       "      <td>A</td>\n",
       "    </tr>\n",
       "  </tbody>\n",
       "</table>\n",
       "<p>200 rows × 8 columns</p>\n",
       "</div>"
      ],
      "text/plain": [
       "      id                                             prompt  \\\n",
       "0      0  As a science expert solving a science exam que...   \n",
       "1      1  As a science expert solving a science exam que...   \n",
       "2      2  As a science expert solving a science exam que...   \n",
       "3      3  As a science expert solving a science exam que...   \n",
       "4      4  As a science expert solving a science exam que...   \n",
       "..   ...                                                ...   \n",
       "195  195  As a science expert solving a science exam que...   \n",
       "196  196  As a science expert solving a science exam que...   \n",
       "197  197  As a science expert solving a science exam que...   \n",
       "198  198  As a science expert solving a science exam que...   \n",
       "199  199  As a science expert solving a science exam que...   \n",
       "\n",
       "                                                     A  \\\n",
       "0    MOND is a theory that reduces the observed mis...   \n",
       "1    Dynamic scaling refers to the evolution of sel...   \n",
       "2    The triskeles symbol was reconstructed as a fe...   \n",
       "3    Regularizing the mass-energy of an electron wi...   \n",
       "4    The angular spacing of features in the diffrac...   \n",
       "..                                                 ...   \n",
       "195  The three moment theorem expresses the relatio...   \n",
       "196  The throttling process is a steady flow of a f...   \n",
       "197  The excess base metal will often solidify, bec...   \n",
       "198  Mass is a property that determines the weight ...   \n",
       "199  Arthur Eddington showed that two of Einstein's...   \n",
       "\n",
       "                                                     B  \\\n",
       "0    MOND is a theory that increases the discrepanc...   \n",
       "1    Dynamic scaling refers to the non-evolution of...   \n",
       "2    The triskeles symbol is a representation of th...   \n",
       "3    Regularizing the mass-energy of an electron wi...   \n",
       "4    The angular spacing of features in the diffrac...   \n",
       "..                                                 ...   \n",
       "195  The three moment theorem is used to calculate ...   \n",
       "196  The throttling process is a steady adiabatic f...   \n",
       "197  The excess base metal will often crystallize-o...   \n",
       "198  Mass is an inertial property that determines a...   \n",
       "199  Arthur Eddington showed that two of Einstein's...   \n",
       "\n",
       "                                                     C  \\\n",
       "0    MOND is a theory that explains the missing bar...   \n",
       "1    Dynamic scaling refers to the evolution of sel...   \n",
       "2    The triskeles symbol is a representation of a ...   \n",
       "3    Regularizing the mass-energy of an electron wi...   \n",
       "4    The angular spacing of features in the diffrac...   \n",
       "..                                                 ...   \n",
       "195  The three moment theorem describes the relatio...   \n",
       "196  The throttling process is a steady adiabatic f...   \n",
       "197  The excess base metal will often dissolve, bec...   \n",
       "198  Mass is an inertial property that determines a...   \n",
       "199  Arthur Eddington showed that two of Einstein's...   \n",
       "\n",
       "                                                     D  \\\n",
       "0    MOND is a theory that reduces the discrepancy ...   \n",
       "1    Dynamic scaling refers to the non-evolution of...   \n",
       "2    The triskeles symbol represents three interloc...   \n",
       "3    Regularizing the mass-energy of an electron wi...   \n",
       "4    The angular spacing of features in the diffrac...   \n",
       "..                                                 ...   \n",
       "195  The three moment theorem is used to calculate ...   \n",
       "196  The throttling process is a steady flow of a f...   \n",
       "197  The excess base metal will often liquefy, beco...   \n",
       "198  Mass is an inertial property that determines a...   \n",
       "199  Arthur Eddington showed that two of Einstein's...   \n",
       "\n",
       "                                                     E answer  \n",
       "0    MOND is a theory that eliminates the observed ...      A  \n",
       "1    Dynamic scaling refers to the evolution of sel...      A  \n",
       "2    The triskeles symbol is a representation of th...      A  \n",
       "3    Regularizing the mass-energy of an electron wi...      A  \n",
       "4    The angular spacing of features in the diffrac...      A  \n",
       "..                                                 ...    ...  \n",
       "195  The three moment theorem is used to derive the...      A  \n",
       "196  The throttling process is a steady adiabatic f...      A  \n",
       "197  The excess base metal will often evaporate, be...      A  \n",
       "198  Mass is a property that determines the size of...      A  \n",
       "199  Arthur Eddington showed that two of Einstein's...      A  \n",
       "\n",
       "[200 rows x 8 columns]"
      ]
     },
     "execution_count": 34,
     "metadata": {},
     "output_type": "execute_result"
    }
   ],
   "source": [
    "test_df"
   ]
  },
  {
   "cell_type": "code",
   "execution_count": 35,
   "id": "1cfd2fb3",
   "metadata": {
    "execution": {
     "iopub.execute_input": "2023-08-15T20:00:01.962441Z",
     "iopub.status.busy": "2023-08-15T20:00:01.962012Z",
     "iopub.status.idle": "2023-08-15T20:00:24.656437Z",
     "shell.execute_reply": "2023-08-15T20:00:24.655254Z"
    },
    "papermill": {
     "duration": 22.719255,
     "end_time": "2023-08-15T20:00:24.660049",
     "exception": false,
     "start_time": "2023-08-15T20:00:01.940794",
     "status": "completed"
    },
    "tags": []
   },
   "outputs": [
    {
     "data": {
      "text/html": [],
      "text/plain": [
       "<IPython.core.display.HTML object>"
      ]
     },
     "metadata": {},
     "output_type": "display_data"
    },
    {
     "data": {
      "text/plain": [
       "array([[-0.10422602,  1.4582524 ,  0.01658112,  1.6056869 , -0.21981567],\n",
       "       [-0.51512194, -0.9311666 , -1.5219071 , -1.4329563 , -1.3814052 ],\n",
       "       [ 1.2669116 ,  0.44653463, -0.20179509,  1.5198768 ,  0.8809513 ],\n",
       "       [ 1.2540419 , -0.5024787 ,  1.0226139 , -0.04397823, -0.05822211]],\n",
       "      dtype=float32)"
      ]
     },
     "execution_count": 35,
     "metadata": {},
     "output_type": "execute_result"
    }
   ],
   "source": [
    "test_predictions = trainer.predict(tokenized_test_dataset).predictions\n",
    "test_predictions[:4]"
   ]
  },
  {
   "cell_type": "markdown",
   "id": "046714f5",
   "metadata": {
    "papermill": {
     "duration": 0.031375,
     "end_time": "2023-08-15T20:00:24.723647",
     "exception": false,
     "start_time": "2023-08-15T20:00:24.692272",
     "status": "completed"
    },
    "tags": []
   },
   "source": [
    "The predictions are values output from the last layer of our neural network.\n",
    "\n",
    "Let's obtain the predicted answer ids by sorting them from largest to the smallest."
   ]
  },
  {
   "cell_type": "code",
   "execution_count": 36,
   "id": "ec7862e4",
   "metadata": {
    "execution": {
     "iopub.execute_input": "2023-08-15T20:00:24.790761Z",
     "iopub.status.busy": "2023-08-15T20:00:24.790156Z",
     "iopub.status.idle": "2023-08-15T20:00:24.802608Z",
     "shell.execute_reply": "2023-08-15T20:00:24.801521Z"
    },
    "papermill": {
     "duration": 0.049311,
     "end_time": "2023-08-15T20:00:24.805860",
     "exception": false,
     "start_time": "2023-08-15T20:00:24.756549",
     "status": "completed"
    },
    "tags": []
   },
   "outputs": [
    {
     "data": {
      "text/plain": [
       "array([[3, 1, 2, 0, 4],\n",
       "       [0, 1, 4, 3, 2],\n",
       "       [3, 0, 4, 1, 2]])"
      ]
     },
     "execution_count": 36,
     "metadata": {},
     "output_type": "execute_result"
    }
   ],
   "source": [
    "predictions_as_ids = np.argsort(-test_predictions, 1)\n",
    "predictions_as_ids[:3]"
   ]
  },
  {
   "cell_type": "markdown",
   "id": "effad4c5",
   "metadata": {
    "papermill": {
     "duration": 0.032203,
     "end_time": "2023-08-15T20:00:24.869482",
     "exception": false,
     "start_time": "2023-08-15T20:00:24.837279",
     "status": "completed"
    },
    "tags": []
   },
   "source": [
    "Let us now assign a letter corresponding to each predicted id (0 -> 'A', 1 -> 'B', etc). "
   ]
  },
  {
   "cell_type": "code",
   "execution_count": 37,
   "id": "ea96545a",
   "metadata": {
    "execution": {
     "iopub.execute_input": "2023-08-15T20:00:24.935835Z",
     "iopub.status.busy": "2023-08-15T20:00:24.935316Z",
     "iopub.status.idle": "2023-08-15T20:00:24.949414Z",
     "shell.execute_reply": "2023-08-15T20:00:24.948263Z"
    },
    "papermill": {
     "duration": 0.051404,
     "end_time": "2023-08-15T20:00:24.952723",
     "exception": false,
     "start_time": "2023-08-15T20:00:24.901319",
     "status": "completed"
    },
    "tags": []
   },
   "outputs": [
    {
     "data": {
      "text/plain": [
       "array([['D', 'B', 'C', 'A', 'E'],\n",
       "       ['A', 'B', 'E', 'D', 'C'],\n",
       "       ['D', 'A', 'E', 'B', 'C']], dtype='<U1')"
      ]
     },
     "execution_count": 37,
     "metadata": {},
     "output_type": "execute_result"
    }
   ],
   "source": [
    "predictions_as_answer_letters = np.array(list('ABCDE'))[predictions_as_ids]\n",
    "predictions_as_answer_letters[:3]"
   ]
  },
  {
   "cell_type": "code",
   "execution_count": 38,
   "id": "de29c4be",
   "metadata": {
    "execution": {
     "iopub.execute_input": "2023-08-15T20:00:25.020716Z",
     "iopub.status.busy": "2023-08-15T20:00:25.020239Z",
     "iopub.status.idle": "2023-08-15T20:00:25.036167Z",
     "shell.execute_reply": "2023-08-15T20:00:25.034964Z"
    },
    "papermill": {
     "duration": 0.053855,
     "end_time": "2023-08-15T20:00:25.039866",
     "exception": false,
     "start_time": "2023-08-15T20:00:24.986011",
     "status": "completed"
    },
    "tags": []
   },
   "outputs": [
    {
     "data": {
      "text/plain": [
       "['D B C', 'A B E', 'D A E']"
      ]
     },
     "execution_count": 38,
     "metadata": {},
     "output_type": "execute_result"
    }
   ],
   "source": [
    "predictions_as_string = test_df['prediction'] = [\n",
    "    ' '.join(row) for row in predictions_as_answer_letters[:, :3]\n",
    "]\n",
    "predictions_as_string[:3]"
   ]
  },
  {
   "cell_type": "code",
   "execution_count": 39,
   "id": "29a1b471",
   "metadata": {
    "execution": {
     "iopub.execute_input": "2023-08-15T20:00:25.109066Z",
     "iopub.status.busy": "2023-08-15T20:00:25.108550Z",
     "iopub.status.idle": "2023-08-15T20:00:25.138082Z",
     "shell.execute_reply": "2023-08-15T20:00:25.136901Z"
    },
    "papermill": {
     "duration": 0.067994,
     "end_time": "2023-08-15T20:00:25.141635",
     "exception": false,
     "start_time": "2023-08-15T20:00:25.073641",
     "status": "completed"
    },
    "tags": []
   },
   "outputs": [
    {
     "data": {
      "text/html": [
       "<div>\n",
       "<style scoped>\n",
       "    .dataframe tbody tr th:only-of-type {\n",
       "        vertical-align: middle;\n",
       "    }\n",
       "\n",
       "    .dataframe tbody tr th {\n",
       "        vertical-align: top;\n",
       "    }\n",
       "\n",
       "    .dataframe thead th {\n",
       "        text-align: right;\n",
       "    }\n",
       "</style>\n",
       "<table border=\"1\" class=\"dataframe\">\n",
       "  <thead>\n",
       "    <tr style=\"text-align: right;\">\n",
       "      <th></th>\n",
       "      <th>id</th>\n",
       "      <th>prediction</th>\n",
       "    </tr>\n",
       "  </thead>\n",
       "  <tbody>\n",
       "    <tr>\n",
       "      <th>0</th>\n",
       "      <td>0</td>\n",
       "      <td>D B C</td>\n",
       "    </tr>\n",
       "    <tr>\n",
       "      <th>1</th>\n",
       "      <td>1</td>\n",
       "      <td>A B E</td>\n",
       "    </tr>\n",
       "    <tr>\n",
       "      <th>2</th>\n",
       "      <td>2</td>\n",
       "      <td>D A E</td>\n",
       "    </tr>\n",
       "    <tr>\n",
       "      <th>3</th>\n",
       "      <td>3</td>\n",
       "      <td>A C D</td>\n",
       "    </tr>\n",
       "    <tr>\n",
       "      <th>4</th>\n",
       "      <td>4</td>\n",
       "      <td>D A C</td>\n",
       "    </tr>\n",
       "  </tbody>\n",
       "</table>\n",
       "</div>"
      ],
      "text/plain": [
       "   id prediction\n",
       "0   0      D B C\n",
       "1   1      A B E\n",
       "2   2      D A E\n",
       "3   3      A C D\n",
       "4   4      D A C"
      ]
     },
     "execution_count": 39,
     "metadata": {},
     "output_type": "execute_result"
    }
   ],
   "source": [
    "submission = test_df[['id', 'prediction']]\n",
    "submission.to_csv('submission.csv', index=False)\n",
    "\n",
    "pd.read_csv('submission.csv').head()"
   ]
  }
 ],
 "metadata": {
  "kernelspec": {
   "display_name": "Python 3",
   "language": "python",
   "name": "python3"
  },
  "language_info": {
   "codemirror_mode": {
    "name": "ipython",
    "version": 3
   },
   "file_extension": ".py",
   "mimetype": "text/x-python",
   "name": "python",
   "nbconvert_exporter": "python",
   "pygments_lexer": "ipython3",
   "version": "3.10.12"
  },
  "papermill": {
   "default_parameters": {},
   "duration": 12602.034785,
   "end_time": "2023-08-15T20:00:28.201464",
   "environment_variables": {},
   "exception": null,
   "input_path": "__notebook__.ipynb",
   "output_path": "__notebook__.ipynb",
   "parameters": {},
   "start_time": "2023-08-15T16:30:26.166679",
   "version": "2.4.0"
  },
  "widgets": {
   "application/vnd.jupyter.widget-state+json": {
    "state": {
     "0f6c6829ab6b43f085513beb6d88aeae": {
      "model_module": "@jupyter-widgets/base",
      "model_module_version": "1.2.0",
      "model_name": "LayoutModel",
      "state": {
       "_model_module": "@jupyter-widgets/base",
       "_model_module_version": "1.2.0",
       "_model_name": "LayoutModel",
       "_view_count": null,
       "_view_module": "@jupyter-widgets/base",
       "_view_module_version": "1.2.0",
       "_view_name": "LayoutView",
       "align_content": null,
       "align_items": null,
       "align_self": null,
       "border": null,
       "bottom": null,
       "display": null,
       "flex": null,
       "flex_flow": null,
       "grid_area": null,
       "grid_auto_columns": null,
       "grid_auto_flow": null,
       "grid_auto_rows": null,
       "grid_column": null,
       "grid_gap": null,
       "grid_row": null,
       "grid_template_areas": null,
       "grid_template_columns": null,
       "grid_template_rows": null,
       "height": null,
       "justify_content": null,
       "justify_items": null,
       "left": null,
       "margin": null,
       "max_height": null,
       "max_width": null,
       "min_height": null,
       "min_width": null,
       "object_fit": null,
       "object_position": null,
       "order": null,
       "overflow": null,
       "overflow_x": null,
       "overflow_y": null,
       "padding": null,
       "right": null,
       "top": null,
       "visibility": null,
       "width": null
      }
     },
     "1634a18aafc4492bb1e4a983e751db95": {
      "model_module": "@jupyter-widgets/base",
      "model_module_version": "1.2.0",
      "model_name": "LayoutModel",
      "state": {
       "_model_module": "@jupyter-widgets/base",
       "_model_module_version": "1.2.0",
       "_model_name": "LayoutModel",
       "_view_count": null,
       "_view_module": "@jupyter-widgets/base",
       "_view_module_version": "1.2.0",
       "_view_name": "LayoutView",
       "align_content": null,
       "align_items": null,
       "align_self": null,
       "border": null,
       "bottom": null,
       "display": null,
       "flex": null,
       "flex_flow": null,
       "grid_area": null,
       "grid_auto_columns": null,
       "grid_auto_flow": null,
       "grid_auto_rows": null,
       "grid_column": null,
       "grid_gap": null,
       "grid_row": null,
       "grid_template_areas": null,
       "grid_template_columns": null,
       "grid_template_rows": null,
       "height": null,
       "justify_content": null,
       "justify_items": null,
       "left": null,
       "margin": null,
       "max_height": null,
       "max_width": null,
       "min_height": null,
       "min_width": null,
       "object_fit": null,
       "object_position": null,
       "order": null,
       "overflow": null,
       "overflow_x": null,
       "overflow_y": null,
       "padding": null,
       "right": null,
       "top": null,
       "visibility": null,
       "width": null
      }
     },
     "17ebedd5dd39463398142fee172bdf6e": {
      "model_module": "@jupyter-widgets/base",
      "model_module_version": "1.2.0",
      "model_name": "LayoutModel",
      "state": {
       "_model_module": "@jupyter-widgets/base",
       "_model_module_version": "1.2.0",
       "_model_name": "LayoutModel",
       "_view_count": null,
       "_view_module": "@jupyter-widgets/base",
       "_view_module_version": "1.2.0",
       "_view_name": "LayoutView",
       "align_content": null,
       "align_items": null,
       "align_self": null,
       "border": null,
       "bottom": null,
       "display": null,
       "flex": null,
       "flex_flow": null,
       "grid_area": null,
       "grid_auto_columns": null,
       "grid_auto_flow": null,
       "grid_auto_rows": null,
       "grid_column": null,
       "grid_gap": null,
       "grid_row": null,
       "grid_template_areas": null,
       "grid_template_columns": null,
       "grid_template_rows": null,
       "height": null,
       "justify_content": null,
       "justify_items": null,
       "left": null,
       "margin": null,
       "max_height": null,
       "max_width": null,
       "min_height": null,
       "min_width": null,
       "object_fit": null,
       "object_position": null,
       "order": null,
       "overflow": null,
       "overflow_x": null,
       "overflow_y": null,
       "padding": null,
       "right": null,
       "top": null,
       "visibility": null,
       "width": null
      }
     },
     "1f9332b3f0b54df895dafc5519f8d185": {
      "model_module": "@jupyter-widgets/controls",
      "model_module_version": "1.5.0",
      "model_name": "ProgressStyleModel",
      "state": {
       "_model_module": "@jupyter-widgets/controls",
       "_model_module_version": "1.5.0",
       "_model_name": "ProgressStyleModel",
       "_view_count": null,
       "_view_module": "@jupyter-widgets/base",
       "_view_module_version": "1.2.0",
       "_view_name": "StyleView",
       "bar_color": null,
       "description_width": ""
      }
     },
     "2659c5f670a3417a8fc338ef2f07d482": {
      "model_module": "@jupyter-widgets/controls",
      "model_module_version": "1.5.0",
      "model_name": "DescriptionStyleModel",
      "state": {
       "_model_module": "@jupyter-widgets/controls",
       "_model_module_version": "1.5.0",
       "_model_name": "DescriptionStyleModel",
       "_view_count": null,
       "_view_module": "@jupyter-widgets/base",
       "_view_module_version": "1.2.0",
       "_view_name": "StyleView",
       "description_width": ""
      }
     },
     "3e979e8341664c9da7331413422f08c0": {
      "model_module": "@jupyter-widgets/controls",
      "model_module_version": "1.5.0",
      "model_name": "ProgressStyleModel",
      "state": {
       "_model_module": "@jupyter-widgets/controls",
       "_model_module_version": "1.5.0",
       "_model_name": "ProgressStyleModel",
       "_view_count": null,
       "_view_module": "@jupyter-widgets/base",
       "_view_module_version": "1.2.0",
       "_view_name": "StyleView",
       "bar_color": null,
       "description_width": ""
      }
     },
     "40d8d56a6e284368a4984f5ff4d9a74b": {
      "model_module": "@jupyter-widgets/base",
      "model_module_version": "1.2.0",
      "model_name": "LayoutModel",
      "state": {
       "_model_module": "@jupyter-widgets/base",
       "_model_module_version": "1.2.0",
       "_model_name": "LayoutModel",
       "_view_count": null,
       "_view_module": "@jupyter-widgets/base",
       "_view_module_version": "1.2.0",
       "_view_name": "LayoutView",
       "align_content": null,
       "align_items": null,
       "align_self": null,
       "border": null,
       "bottom": null,
       "display": null,
       "flex": null,
       "flex_flow": null,
       "grid_area": null,
       "grid_auto_columns": null,
       "grid_auto_flow": null,
       "grid_auto_rows": null,
       "grid_column": null,
       "grid_gap": null,
       "grid_row": null,
       "grid_template_areas": null,
       "grid_template_columns": null,
       "grid_template_rows": null,
       "height": null,
       "justify_content": null,
       "justify_items": null,
       "left": null,
       "margin": null,
       "max_height": null,
       "max_width": null,
       "min_height": null,
       "min_width": null,
       "object_fit": null,
       "object_position": null,
       "order": null,
       "overflow": null,
       "overflow_x": null,
       "overflow_y": null,
       "padding": null,
       "right": null,
       "top": null,
       "visibility": null,
       "width": null
      }
     },
     "4de923543854420192f8026af0e4b857": {
      "model_module": "@jupyter-widgets/controls",
      "model_module_version": "1.5.0",
      "model_name": "FloatProgressModel",
      "state": {
       "_dom_classes": [],
       "_model_module": "@jupyter-widgets/controls",
       "_model_module_version": "1.5.0",
       "_model_name": "FloatProgressModel",
       "_view_count": null,
       "_view_module": "@jupyter-widgets/controls",
       "_view_module_version": "1.5.0",
       "_view_name": "ProgressView",
       "bar_style": "success",
       "description": "",
       "description_tooltip": null,
       "layout": "IPY_MODEL_c46e18a7edd14de184c2b90d94e1c5d9",
       "max": 200.0,
       "min": 0.0,
       "orientation": "horizontal",
       "style": "IPY_MODEL_1f9332b3f0b54df895dafc5519f8d185",
       "value": 200.0
      }
     },
     "681a85a968ab41f49e51a61d1ed06b13": {
      "model_module": "@jupyter-widgets/controls",
      "model_module_version": "1.5.0",
      "model_name": "HTMLModel",
      "state": {
       "_dom_classes": [],
       "_model_module": "@jupyter-widgets/controls",
       "_model_module_version": "1.5.0",
       "_model_name": "HTMLModel",
       "_view_count": null,
       "_view_module": "@jupyter-widgets/controls",
       "_view_module_version": "1.5.0",
       "_view_name": "HTMLView",
       "description": "",
       "description_tooltip": null,
       "layout": "IPY_MODEL_e7e65224d0844a069034346010f83007",
       "placeholder": "​",
       "style": "IPY_MODEL_2659c5f670a3417a8fc338ef2f07d482",
       "value": " 15000/15000 [00:33&lt;00:00, 543.11ex/s]"
      }
     },
     "7aaef52703ca49f49bee7fdeeb1c8873": {
      "model_module": "@jupyter-widgets/controls",
      "model_module_version": "1.5.0",
      "model_name": "DescriptionStyleModel",
      "state": {
       "_model_module": "@jupyter-widgets/controls",
       "_model_module_version": "1.5.0",
       "_model_name": "DescriptionStyleModel",
       "_view_count": null,
       "_view_module": "@jupyter-widgets/base",
       "_view_module_version": "1.2.0",
       "_view_name": "StyleView",
       "description_width": ""
      }
     },
     "82792bfa85874ff0ba272ae81eb4cd98": {
      "model_module": "@jupyter-widgets/controls",
      "model_module_version": "1.5.0",
      "model_name": "HBoxModel",
      "state": {
       "_dom_classes": [],
       "_model_module": "@jupyter-widgets/controls",
       "_model_module_version": "1.5.0",
       "_model_name": "HBoxModel",
       "_view_count": null,
       "_view_module": "@jupyter-widgets/controls",
       "_view_module_version": "1.5.0",
       "_view_name": "HBoxView",
       "box_style": "",
       "children": [
        "IPY_MODEL_f87c7dcbce4b463da5c7f936ec883381",
        "IPY_MODEL_db79fefe463f4086b76d4b83ff313f63",
        "IPY_MODEL_681a85a968ab41f49e51a61d1ed06b13"
       ],
       "layout": "IPY_MODEL_e4d6f2a9ff7049c69c42d655557fab35"
      }
     },
     "acb8c6d948ff470fa053a8cc16cf7461": {
      "model_module": "@jupyter-widgets/controls",
      "model_module_version": "1.5.0",
      "model_name": "HTMLModel",
      "state": {
       "_dom_classes": [],
       "_model_module": "@jupyter-widgets/controls",
       "_model_module_version": "1.5.0",
       "_model_name": "HTMLModel",
       "_view_count": null,
       "_view_module": "@jupyter-widgets/controls",
       "_view_module_version": "1.5.0",
       "_view_name": "HTMLView",
       "description": "",
       "description_tooltip": null,
       "layout": "IPY_MODEL_ecb843ea41cf4e6f8fde4edcda5784f5",
       "placeholder": "​",
       "style": "IPY_MODEL_f0090769eac84137b3bfb926a7c86af7",
       "value": "100%"
      }
     },
     "ad4d441a4d6d443481e5cbacb814742a": {
      "model_module": "@jupyter-widgets/controls",
      "model_module_version": "1.5.0",
      "model_name": "DescriptionStyleModel",
      "state": {
       "_model_module": "@jupyter-widgets/controls",
       "_model_module_version": "1.5.0",
       "_model_name": "DescriptionStyleModel",
       "_view_count": null,
       "_view_module": "@jupyter-widgets/base",
       "_view_module_version": "1.2.0",
       "_view_name": "StyleView",
       "description_width": ""
      }
     },
     "bc6e9714f1fb44348823ab3245870043": {
      "model_module": "@jupyter-widgets/controls",
      "model_module_version": "1.5.0",
      "model_name": "HBoxModel",
      "state": {
       "_dom_classes": [],
       "_model_module": "@jupyter-widgets/controls",
       "_model_module_version": "1.5.0",
       "_model_name": "HBoxModel",
       "_view_count": null,
       "_view_module": "@jupyter-widgets/controls",
       "_view_module_version": "1.5.0",
       "_view_name": "HBoxView",
       "box_style": "",
       "children": [
        "IPY_MODEL_acb8c6d948ff470fa053a8cc16cf7461",
        "IPY_MODEL_4de923543854420192f8026af0e4b857",
        "IPY_MODEL_c24ae39c99c64a3eac90cfa06f705c7c"
       ],
       "layout": "IPY_MODEL_0f6c6829ab6b43f085513beb6d88aeae"
      }
     },
     "c24ae39c99c64a3eac90cfa06f705c7c": {
      "model_module": "@jupyter-widgets/controls",
      "model_module_version": "1.5.0",
      "model_name": "HTMLModel",
      "state": {
       "_dom_classes": [],
       "_model_module": "@jupyter-widgets/controls",
       "_model_module_version": "1.5.0",
       "_model_name": "HTMLModel",
       "_view_count": null,
       "_view_module": "@jupyter-widgets/controls",
       "_view_module_version": "1.5.0",
       "_view_name": "HTMLView",
       "description": "",
       "description_tooltip": null,
       "layout": "IPY_MODEL_1634a18aafc4492bb1e4a983e751db95",
       "placeholder": "​",
       "style": "IPY_MODEL_7aaef52703ca49f49bee7fdeeb1c8873",
       "value": " 200/200 [00:00&lt;00:00, 456.27ex/s]"
      }
     },
     "c46e18a7edd14de184c2b90d94e1c5d9": {
      "model_module": "@jupyter-widgets/base",
      "model_module_version": "1.2.0",
      "model_name": "LayoutModel",
      "state": {
       "_model_module": "@jupyter-widgets/base",
       "_model_module_version": "1.2.0",
       "_model_name": "LayoutModel",
       "_view_count": null,
       "_view_module": "@jupyter-widgets/base",
       "_view_module_version": "1.2.0",
       "_view_name": "LayoutView",
       "align_content": null,
       "align_items": null,
       "align_self": null,
       "border": null,
       "bottom": null,
       "display": null,
       "flex": null,
       "flex_flow": null,
       "grid_area": null,
       "grid_auto_columns": null,
       "grid_auto_flow": null,
       "grid_auto_rows": null,
       "grid_column": null,
       "grid_gap": null,
       "grid_row": null,
       "grid_template_areas": null,
       "grid_template_columns": null,
       "grid_template_rows": null,
       "height": null,
       "justify_content": null,
       "justify_items": null,
       "left": null,
       "margin": null,
       "max_height": null,
       "max_width": null,
       "min_height": null,
       "min_width": null,
       "object_fit": null,
       "object_position": null,
       "order": null,
       "overflow": null,
       "overflow_x": null,
       "overflow_y": null,
       "padding": null,
       "right": null,
       "top": null,
       "visibility": null,
       "width": null
      }
     },
     "db79fefe463f4086b76d4b83ff313f63": {
      "model_module": "@jupyter-widgets/controls",
      "model_module_version": "1.5.0",
      "model_name": "FloatProgressModel",
      "state": {
       "_dom_classes": [],
       "_model_module": "@jupyter-widgets/controls",
       "_model_module_version": "1.5.0",
       "_model_name": "FloatProgressModel",
       "_view_count": null,
       "_view_module": "@jupyter-widgets/controls",
       "_view_module_version": "1.5.0",
       "_view_name": "ProgressView",
       "bar_style": "success",
       "description": "",
       "description_tooltip": null,
       "layout": "IPY_MODEL_17ebedd5dd39463398142fee172bdf6e",
       "max": 15000.0,
       "min": 0.0,
       "orientation": "horizontal",
       "style": "IPY_MODEL_3e979e8341664c9da7331413422f08c0",
       "value": 15000.0
      }
     },
     "e4d6f2a9ff7049c69c42d655557fab35": {
      "model_module": "@jupyter-widgets/base",
      "model_module_version": "1.2.0",
      "model_name": "LayoutModel",
      "state": {
       "_model_module": "@jupyter-widgets/base",
       "_model_module_version": "1.2.0",
       "_model_name": "LayoutModel",
       "_view_count": null,
       "_view_module": "@jupyter-widgets/base",
       "_view_module_version": "1.2.0",
       "_view_name": "LayoutView",
       "align_content": null,
       "align_items": null,
       "align_self": null,
       "border": null,
       "bottom": null,
       "display": null,
       "flex": null,
       "flex_flow": null,
       "grid_area": null,
       "grid_auto_columns": null,
       "grid_auto_flow": null,
       "grid_auto_rows": null,
       "grid_column": null,
       "grid_gap": null,
       "grid_row": null,
       "grid_template_areas": null,
       "grid_template_columns": null,
       "grid_template_rows": null,
       "height": null,
       "justify_content": null,
       "justify_items": null,
       "left": null,
       "margin": null,
       "max_height": null,
       "max_width": null,
       "min_height": null,
       "min_width": null,
       "object_fit": null,
       "object_position": null,
       "order": null,
       "overflow": null,
       "overflow_x": null,
       "overflow_y": null,
       "padding": null,
       "right": null,
       "top": null,
       "visibility": null,
       "width": null
      }
     },
     "e7e65224d0844a069034346010f83007": {
      "model_module": "@jupyter-widgets/base",
      "model_module_version": "1.2.0",
      "model_name": "LayoutModel",
      "state": {
       "_model_module": "@jupyter-widgets/base",
       "_model_module_version": "1.2.0",
       "_model_name": "LayoutModel",
       "_view_count": null,
       "_view_module": "@jupyter-widgets/base",
       "_view_module_version": "1.2.0",
       "_view_name": "LayoutView",
       "align_content": null,
       "align_items": null,
       "align_self": null,
       "border": null,
       "bottom": null,
       "display": null,
       "flex": null,
       "flex_flow": null,
       "grid_area": null,
       "grid_auto_columns": null,
       "grid_auto_flow": null,
       "grid_auto_rows": null,
       "grid_column": null,
       "grid_gap": null,
       "grid_row": null,
       "grid_template_areas": null,
       "grid_template_columns": null,
       "grid_template_rows": null,
       "height": null,
       "justify_content": null,
       "justify_items": null,
       "left": null,
       "margin": null,
       "max_height": null,
       "max_width": null,
       "min_height": null,
       "min_width": null,
       "object_fit": null,
       "object_position": null,
       "order": null,
       "overflow": null,
       "overflow_x": null,
       "overflow_y": null,
       "padding": null,
       "right": null,
       "top": null,
       "visibility": null,
       "width": null
      }
     },
     "ecb843ea41cf4e6f8fde4edcda5784f5": {
      "model_module": "@jupyter-widgets/base",
      "model_module_version": "1.2.0",
      "model_name": "LayoutModel",
      "state": {
       "_model_module": "@jupyter-widgets/base",
       "_model_module_version": "1.2.0",
       "_model_name": "LayoutModel",
       "_view_count": null,
       "_view_module": "@jupyter-widgets/base",
       "_view_module_version": "1.2.0",
       "_view_name": "LayoutView",
       "align_content": null,
       "align_items": null,
       "align_self": null,
       "border": null,
       "bottom": null,
       "display": null,
       "flex": null,
       "flex_flow": null,
       "grid_area": null,
       "grid_auto_columns": null,
       "grid_auto_flow": null,
       "grid_auto_rows": null,
       "grid_column": null,
       "grid_gap": null,
       "grid_row": null,
       "grid_template_areas": null,
       "grid_template_columns": null,
       "grid_template_rows": null,
       "height": null,
       "justify_content": null,
       "justify_items": null,
       "left": null,
       "margin": null,
       "max_height": null,
       "max_width": null,
       "min_height": null,
       "min_width": null,
       "object_fit": null,
       "object_position": null,
       "order": null,
       "overflow": null,
       "overflow_x": null,
       "overflow_y": null,
       "padding": null,
       "right": null,
       "top": null,
       "visibility": null,
       "width": null
      }
     },
     "f0090769eac84137b3bfb926a7c86af7": {
      "model_module": "@jupyter-widgets/controls",
      "model_module_version": "1.5.0",
      "model_name": "DescriptionStyleModel",
      "state": {
       "_model_module": "@jupyter-widgets/controls",
       "_model_module_version": "1.5.0",
       "_model_name": "DescriptionStyleModel",
       "_view_count": null,
       "_view_module": "@jupyter-widgets/base",
       "_view_module_version": "1.2.0",
       "_view_name": "StyleView",
       "description_width": ""
      }
     },
     "f87c7dcbce4b463da5c7f936ec883381": {
      "model_module": "@jupyter-widgets/controls",
      "model_module_version": "1.5.0",
      "model_name": "HTMLModel",
      "state": {
       "_dom_classes": [],
       "_model_module": "@jupyter-widgets/controls",
       "_model_module_version": "1.5.0",
       "_model_name": "HTMLModel",
       "_view_count": null,
       "_view_module": "@jupyter-widgets/controls",
       "_view_module_version": "1.5.0",
       "_view_name": "HTMLView",
       "description": "",
       "description_tooltip": null,
       "layout": "IPY_MODEL_40d8d56a6e284368a4984f5ff4d9a74b",
       "placeholder": "​",
       "style": "IPY_MODEL_ad4d441a4d6d443481e5cbacb814742a",
       "value": "100%"
      }
     }
    },
    "version_major": 2,
    "version_minor": 0
   }
  }
 },
 "nbformat": 4,
 "nbformat_minor": 5
}
